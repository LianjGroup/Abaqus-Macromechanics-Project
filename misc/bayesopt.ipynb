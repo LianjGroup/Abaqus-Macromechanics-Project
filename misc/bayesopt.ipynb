{
 "cells": [
  {
   "cell_type": "code",
   "execution_count": 70,
   "metadata": {},
   "outputs": [],
   "source": [
    "#%pip install bayesian-optimization"
   ]
  },
  {
   "cell_type": "code",
   "execution_count": 71,
   "metadata": {},
   "outputs": [],
   "source": [
    "# implement a dummy Bayesian optimization algorithm\n",
    "import numpy as np\n",
    "import pandas as pd\n",
    "import matplotlib.pyplot as plt\n",
    "import os\n",
    "from bayes_opt import BayesianOptimization\n",
    "from bayes_opt import UtilityFunction\n",
    "from bayes_opt.logger import JSONLogger\n",
    "from bayes_opt.event import Events\n",
    "from bayes_opt.util import load_logs\n",
    "from sklearn.gaussian_process.kernels import RBF, Matern # you can try to import other kernels from sklearn as well"
   ]
  },
  {
   "cell_type": "markdown",
   "metadata": {},
   "source": [
    "### Prepare target flow curve"
   ]
  },
  {
   "cell_type": "code",
   "execution_count": 72,
   "metadata": {},
   "outputs": [],
   "source": [
    "# Read the CSV file into a DataFrame\n",
    "df = pd.read_csv('abaqus simulation F-D fitting/Flowcurve_RT.csv')\n",
    "# print(df)\n",
    "# Extract the true strain and average true stress columns\n",
    "trueStrain = df['True strain']\n",
    "trueStress = df['Avg.True stress']"
   ]
  },
  {
   "cell_type": "code",
   "execution_count": 73,
   "metadata": {},
   "outputs": [],
   "source": [
    "# Continuous searching space\n",
    "\n",
    "param_bounds = {\n",
    "    \"c1\": (700, 1800),  \n",
    "    \"c2\": (0.1 * 1e2, 10 * 1e2) ,    \n",
    "    \"c3\": (0.01  * 1e3, 0.1 * 1e3)\n",
    "}\n",
    "\n",
    "# Swift Laws\n",
    "\n",
    "def swift_law(c1,c2,c3,strain):\n",
    "    c2_temp=c2*1e-14 * 1e-2\n",
    "    c3_temp=c3* 1e-3\n",
    "    return c1* np.exp(c3_temp * np.log(c2_temp + strain))\n",
    "\n",
    "# Note: BO in Bayes-Opt tries to maximize, so you should use the inverse of the loss function.\n",
    "\n",
    "def lossFunction(**solution):\n",
    "    #print(solution)\n",
    "    c1 = solution[\"c1\"]\n",
    "    c2 = solution[\"c2\"]\n",
    "    c3 = solution[\"c3\"]\n",
    "    simStress = swift_law(c1,c2,c3,trueStrain)\n",
    "\n",
    "    # RMSE loss\n",
    "    fitness = np.sqrt(np.mean((simStress - trueStress)**2))\n",
    "    loss = -fitness\n",
    "    return loss"
   ]
  },
  {
   "cell_type": "code",
   "execution_count": 74,
   "metadata": {},
   "outputs": [],
   "source": [
    "class BO():\n",
    "    \n",
    "    ##################################\n",
    "    # OPTIMIZER CLASS INITIALIZATION #\n",
    "    ##################################\n",
    "\n",
    "    def __init__(self):        \n",
    "        #############################\n",
    "        # Optimizer hyperparameters #\n",
    "        #############################\n",
    "        \n",
    "        # maximize parameters\n",
    "        self.verbose = 1 # 0 for no output, 1 for some output printing\n",
    "        self.random_state = 123 # random seed\n",
    "        self.init_points = 100 # number of initial points to sample randomly for Bayesian optimization\n",
    "        self.iterations = 20 # number of iterations to run Bayesian optimization\n",
    "        \n",
    "        # Acquisition function        \n",
    "        # Low kappa means more exploitation for UCB\n",
    "        # High kappa means more exploration for UCB\n",
    "        # Low xi means more exploitation for EI and POI\n",
    "        # High xi means more exploration for EI and POI\n",
    "        self.acquisitionFunction = UtilityFunction(kind='ucb', kappa=2.576, xi=0, kappa_decay=1, kappa_decay_delay=0)\n",
    "        #self.acquisitionFunction = UtilityFunction(kind='poi', kappa=2.576, xi=0, kappa_decay=1, kappa_decay_delay=0)\n",
    "        #self.acquisitionFunction = UtilityFunction(kind='ei', kappa=2.576, xi=0, kappa_decay=1, kappa_decay_delay=0)\n",
    "        \n",
    "        # Gaussian process kernel parameters\n",
    "        #self.GP_kernel = RBF(length_scale=1.0, length_scale_bounds=(1e-3, 1e3)) # RBF kernel\n",
    "        self.GP_kernel = Matern(nu=2.5) # Matern kernel\n",
    "        self.alpha = 1e-6\n",
    "        self.normalize_y=True\n",
    "        self.n_restarts_optimizer=5\n",
    "        self.logger = JSONLogger(path=\"bayesopt_log/logs.log\", reset=False)\n",
    "        \n",
    "    ##########################\n",
    "    # OPTIMIZATION FUNCTIONS #\n",
    "    ##########################\n",
    "\n",
    "    def initializeOptimizer(self, lossFunction, param_bounds, loadingProgress = False):\n",
    "        self.param_bounds = param_bounds\n",
    "        self.lossFunction = lossFunction\n",
    "        self.loadingProgress = loadingProgress\n",
    "        BO_bounds = param_bounds\n",
    "        bo_instance = BayesianOptimization(\n",
    "            f = lossFunction,\n",
    "            pbounds = BO_bounds, \n",
    "            verbose = self.verbose,\n",
    "            random_state = self.random_state,\n",
    "            bounds_transformer = None,\n",
    "            allow_duplicate_points = False,\n",
    "        )\n",
    "        bo_instance.set_gp_params(\n",
    "            kernel=self.GP_kernel,\n",
    "            alpha=self.alpha,\n",
    "            normalize_y=self.normalize_y,\n",
    "            n_restarts_optimizer=self.n_restarts_optimizer,\n",
    "            random_state=self.random_state\n",
    "        )\n",
    "        self.optimizer = bo_instance\n",
    "        if loadingProgress == False:\n",
    "            self.optimizer.subscribe(Events.OPTIMIZATION_STEP, self.logger)\n",
    "        else:\n",
    "            if os.path.exists(\"./bayesopt_log/logs.log.json\"):\n",
    "                #self.optimizer.subscribe(Events.OPTIMIZATION_STEP, self.logger)\n",
    "                load_logs(self.optimizer, logs=[\"./bayesopt_log/logs.log.json\"]);\n",
    "                print(\"New optimizer is now aware of {} points.\".format(len(self.optimizer.space)))\n",
    "                self.optimizer.subscribe(Events.OPTIMIZATION_STEP, self.logger)\n",
    "            else:\n",
    "                print(\"hello\")\n",
    "            \n",
    "\n",
    "    def run(self):\n",
    "        self.optimizer.maximize(\n",
    "            init_points = self.init_points if self.loadingProgress == False else 0, \n",
    "            n_iter = self.iterations,   \n",
    "            acquisition_function=self.acquisitionFunction\n",
    "        )\n",
    "        \n",
    "    def outputResult(self):\n",
    "        solution_dict = self.optimizer.max[\"params\"]\n",
    "        solution_tuple = tuple(solution_dict.items())\n",
    "        best_solution_loss = self.optimizer.max[\"target\"]\n",
    "        return solution_dict, solution_tuple, best_solution_loss"
   ]
  },
  {
   "cell_type": "code",
   "execution_count": 75,
   "metadata": {},
   "outputs": [
    {
     "name": "stdout",
     "output_type": "stream",
     "text": [
      "{'c1': 1284.7065112260223, 'c2': 536.5093112258974, 'c3': 67.0960862696189}\n",
      "c1: 1284.7065112260223\n",
      "c2: 536.5093112258974\n",
      "c3: 67.0960862696189\n",
      "Best solution loss = -32.3018\n"
     ]
    }
   ],
   "source": [
    "BO_instance = BO()\n",
    "BO_instance.initializeOptimizer(lossFunction, param_bounds, loadingProgress=False)\n",
    "BO_instance.run()\n",
    "solution_dict, solution_tuple, best_solution_loss = BO_instance.outputResult()\n",
    "print(solution_dict)\n",
    "\n",
    "for param in solution_dict:\n",
    "    print(f\"{param}: {solution_dict[param]}\")\n",
    "\n",
    "print(f\"Best solution loss = {best_solution_loss:.4f}\")"
   ]
  },
  {
   "attachments": {},
   "cell_type": "markdown",
   "metadata": {},
   "source": [
    "### You can run this cell repeatedly to load the progress"
   ]
  },
  {
   "cell_type": "code",
   "execution_count": 79,
   "metadata": {},
   "outputs": [
    {
     "name": "stdout",
     "output_type": "stream",
     "text": [
      "New optimizer is now aware of 180 points.\n",
      "{'c1': 1428.1996230619955, 'c2': 1000.0, 'c3': 100.0}\n",
      "c1: 1428.1996230619955\n",
      "c2: 1000.0\n",
      "c3: 100.0\n",
      "Best solution loss = -24.8382\n"
     ]
    }
   ],
   "source": [
    "BO_instance = BO()\n",
    "BO_instance.initializeOptimizer(lossFunction, param_bounds, loadingProgress=True)\n",
    "BO_instance.run()\n",
    "solution_dict, solution_tuple, best_solution_loss = BO_instance.outputResult()\n",
    "print(solution_dict)\n",
    "\n",
    "for param in solution_dict:\n",
    "    print(f\"{param}: {solution_dict[param]}\")\n",
    "\n",
    "print(f\"Best solution loss = {best_solution_loss:.4f}\")"
   ]
  }
 ],
 "metadata": {
  "kernelspec": {
   "display_name": "Python 3",
   "language": "python",
   "name": "python3"
  },
  "language_info": {
   "codemirror_mode": {
    "name": "ipython",
    "version": 3
   },
   "file_extension": ".py",
   "mimetype": "text/x-python",
   "name": "python",
   "nbconvert_exporter": "python",
   "pygments_lexer": "ipython3",
   "version": "3.11.3"
  },
  "orig_nbformat": 4
 },
 "nbformat": 4,
 "nbformat_minor": 2
}
