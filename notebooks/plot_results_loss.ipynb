{
 "cells": [
  {
   "cell_type": "code",
   "execution_count": 4,
   "metadata": {},
   "outputs": [
    {
     "name": "stdout",
     "output_type": "stream",
     "text": [
      "The current directory is: \n",
      "c:\\Users\\springnuance\\Desktop\\Abaqus-Macromechanics-Project\n"
     ]
    }
   ],
   "source": [
    "import pandas as pd\n",
    "import numpy as np\n",
    "from sklearn.metrics import r2_score\n",
    "import matplotlib.pyplot as plt\n",
    "from matplotlib.pyplot import figure\n",
    "import imageio\n",
    "import moviepy.editor as mp\n",
    "import ffmpy\n",
    "\n",
    "import os\n",
    "from math import * \n",
    "os.getcwd()\n",
    "print(\"The current directory is: \")\n",
    "print(os.getcwd())\n",
    "path_parent = os.path.dirname(os.getcwd())\n",
    "if path_parent.endswith(\"Abaqus-Macromechanics-Project\"):\n",
    "    os.chdir(path_parent) \n",
    "    print(\"Moving up to the parent directory\")\n",
    "    print(os.getcwd())"
   ]
  },
  {
   "cell_type": "code",
   "execution_count": 6,
   "metadata": {},
   "outputs": [
    {
     "name": "stdout",
     "output_type": "stream",
     "text": [
      "\n",
      "Welcome to the Abaqus parameter calibration project\n",
      "\n",
      "\n",
      "The configurations you have chosen: \n",
      "\n",
      "+------------------------+----------------+\n",
      "|     Global Configs     |  User choice   |\n",
      "+------------------------+----------------+\n",
      "|    SLURM iteration     | one_node_small |\n",
      "| Number of initial sims |      100       |\n",
      "|  Initial sims spacing  |     10000      |\n",
      "|   Optimize strategy    |      SOO       |\n",
      "|        Material        |  DP1000_room   |\n",
      "|     Hardening law      |     Swift      |\n",
      "|        Geometry        |     NDBR50     |\n",
      "|      Curve index       |       2        |\n",
      "|     Optimizer name     |       BO       |\n",
      "|   Deviation percent    |       2        |\n",
      "+------------------------+----------------+\n",
      "\n",
      "Generating necessary directories\n",
      "\n",
      "The path to your main project folder is\n",
      "\n",
      "c:\\Users\\springnuance\\Desktop\\Abaqus-Macromechanics-Project\n",
      "\n"
     ]
    }
   ],
   "source": [
    "from stage0_configs import *\n",
    "from modules.SOO_SIM import *\n",
    "from modules.helper import *\n",
    "from modules.hardeningLaws import *\n",
    "# Plotting error over iterations\n",
    "from modules.stoploss import *\n",
    "\n",
    "info = main_config()\n",
    "\n",
    "taskName = \"A1\" # A1 A2 A3 A4\n",
    "\n",
    "if taskName == \"A1\":\n",
    "    info['targetPath'] = \"SOO_targets/DP1000_room_Swift_NDBR50_curve2\"\n",
    "    info['resultPath'] = \"SOO_results/DP1000_room_Swift_NDBR50_curve2\"\n",
    "\n",
    "if taskName == \"A2\":\n",
    "    info['targetPath'] = \"SOO_targets/DP1000_room_SwiftVoce_NDBR50_curve2\"\n",
    "    info['resultPath'] = \"SOO_results/DP1000_room_SwiftVoce_NDBR50_curve2\"\n",
    "\n",
    "if taskName == \"A3\":\n",
    "    info['targetPath'] = \"SOO_targets/DP1000_room_SwiftVoce_NDBR50_curve1\"\n",
    "    info['resultPath'] = \"SOO_results/DP1000_room_SwiftVoce_NDBR50_curve1\"\n",
    "\n",
    "if taskName == \"A4\":\n",
    "    info['targetPath'] = \"SOO_targets/DP1000_400C_SwiftVoce_NDBR50_curve1\"\n",
    "    info['resultPath'] = \"SOO_results/DP1000_400C_SwiftVoce_NDBR50_curve1\"\n",
    "\n"
   ]
  },
  {
   "cell_type": "code",
   "execution_count": 3,
   "metadata": {},
   "outputs": [],
   "source": [
    "# Add column force,N to the target curve\n",
    "# Create new dataframe\n",
    "df = pd.DataFrame(columns=['displacement/mm', 'force/kN', 'force/N'])\n",
    "FD_targetCurve = pd.read_csv(f\"{info['targetPath']}/FD_Curve.csv\")\n",
    "df['displacement/mm'] = FD_targetCurve['displacement/mm']\n",
    "df['force/kN'] = FD_targetCurve['force/N'] * 1e-3\n",
    "df['force/N'] = FD_targetCurve['force/N']\n",
    "df.to_csv(f\"{info['targetPath']}/FD_Curve.csv\",index=False)"
   ]
  },
  {
   "cell_type": "code",
   "execution_count": 9,
   "metadata": {},
   "outputs": [],
   "source": [
    "deviationPercent = 3\n",
    "FD_Curve_iteration_errors = []\n",
    "flowCurve_iteration_errors = []\n",
    "stop_check = []\n",
    "\n",
    "resultPath = info['resultPath']\n",
    "targetPath = info['targetPath']\n",
    "\n",
    "FD_targetCurve = pd.read_csv(f\"{targetPath}/FD_Curve.csv\")\n",
    "expDisplacement = FD_targetCurve['displacement/mm']\n",
    "expForce = FD_targetCurve['force/N']\n",
    "\n",
    "FD_targetCurve = {}\n",
    "FD_targetCurve['displacement'] = expDisplacement\n",
    "FD_targetCurve['force'] = expForce\n",
    "\n",
    "flow_targetCurve = pd.read_csv(f\"{targetPath}/flowCurve.csv\")\n",
    "expStrain = flow_targetCurve['strain/-']\n",
    "expStress = flow_targetCurve['stress/MPa']\n",
    "\n",
    "flow_targetCurve = {}\n",
    "flow_targetCurve['strain'] = expStrain\n",
    "flow_targetCurve['stress'] = expStress\n",
    "\n",
    "iteration_original_FD_Curves = np.load(f\"{resultPath}/iteration/common/FD_Curves_smooth.npy\", allow_pickle=True).tolist()\n",
    "iteration_original_flowCurves = np.load(f\"{resultPath}/iteration/common/flowCurves.npy\", allow_pickle=True).tolist()\n",
    "iteration_interpolated_FD_Curves = interpolating_FD_Curves(iteration_original_FD_Curves, FD_targetCurve)\n",
    "iteration_interpolated_flowCurves = interpolating_flowCurves(iteration_original_flowCurves, flow_targetCurve)\n",
    "\n",
    "iter = 1\n",
    "for param in iteration_original_FD_Curves:\n",
    "    FD_Curve_iteration_errors.append(lossFD(iteration_interpolated_FD_Curves[param]['displacement'], iteration_interpolated_FD_Curves[param]['force'], expForce))\n",
    "    flowCurve_iteration_errors.append(lossFlow(iteration_interpolated_flowCurves[param]['strain'], iteration_interpolated_flowCurves[param]['stress'], expStress))\n",
    "    if stopFD(expForce, iteration_interpolated_FD_Curves[param]['force'], deviationPercent):\n",
    "        stop_check.append(iter)\n",
    "    iter += 1"
   ]
  },
  {
   "cell_type": "code",
   "execution_count": 11,
   "metadata": {},
   "outputs": [
    {
     "name": "stdout",
     "output_type": "stream",
     "text": [
      "Iterations that satisfy the stop criterion: [61, 62, 63, 64]\n",
      "Finish saving the loss of last five iterations\n"
     ]
    }
   ],
   "source": [
    "fontsize = 15\n",
    "\n",
    "if np.any(len(stop_check)) == 0:\n",
    "    print(f\"No iterations satisfy the {deviationPercent}% deviation stop criterion\")\n",
    "else:\n",
    "    print(f\"Iterations that satisfy the stop criterion: {stop_check}\")\n",
    "\n",
    "# write to xlsx file loss of last five iterations. First column is iteration, second column is loss\n",
    "df = pd.DataFrame({'Iteration': range(len(FD_Curve_iteration_errors) - 5, len(FD_Curve_iteration_errors) + 1), 'FD curve\\nloss': FD_Curve_iteration_errors[-6:], 'Flow curve\\nloss': flowCurve_iteration_errors[-6:]})\n",
    "\n",
    "# Make iteraton as index\n",
    "df.set_index('Iteration', inplace=True)\n",
    "\n",
    "df.head()\n",
    "\n",
    "df.to_excel(f\"notebooks/last_5_iteration_loss/{taskName}_loss.xlsx\")\n",
    "\n",
    "print(\"Finish saving the loss of last five iterations\")"
   ]
  },
  {
   "cell_type": "code",
   "execution_count": 12,
   "metadata": {},
   "outputs": [
    {
     "name": "stdout",
     "output_type": "stream",
     "text": [
      "[61, 62, 63, 64]\n"
     ]
    },
    {
     "data": {
      "image/png": "[encoded data removed]",
      "text/plain": [
       "<Figure size 640x480 with 1 Axes>"
      ]
     },
     "metadata": {},
     "output_type": "display_data"
    }
   ],
   "source": [
    "figure(figsize=(8, 6), dpi=80)\n",
    "\n",
    "fontsize= 14\n",
    "plt.plot(range(1, len(FD_Curve_iteration_errors) + 1), FD_Curve_iteration_errors,  label='Error')\n",
    "plt.title('FD curve loss over iterations', fontsize=fontsize+2)\n",
    "#plt.xlim([-1, len(iteration_errors)])\n",
    "plt.xlabel('Iteration', fontsize=fontsize+2)\n",
    "plt.ylabel('Loss', fontsize=fontsize+2)\n",
    "plt.xticks(fontsize=fontsize)\n",
    "plt.yticks(fontsize=fontsize)\n",
    "print(stop_check)"
   ]
  },
  {
   "cell_type": "code",
   "execution_count": 24,
   "metadata": {},
   "outputs": [
    {
     "data": {
      "text/plain": [
       "(None, None)"
      ]
     },
     "execution_count": 24,
     "metadata": {},
     "output_type": "execute_result"
    }
   ],
   "source": [
    "# Animations\n",
    "numberOfIterations = len(iteration_original_FD_Curves)\n",
    "\n",
    "for iterName in range(1, numberOfIterations + 1):\n",
    "    iterIndex = iterName - 1\n",
    "    figure(figsize=(8, 6), dpi=80)\n",
    "\n",
    "    fontsize= 14\n",
    "    plt.plot(range(1, iterName + 1), FD_Curve_iteration_errors[0:iterIndex+1], label=f'Iteration {iterName}\\nLoss = {FD_Curve_iteration_errors[iterIndex]:.2f}')\n",
    "    plt.title('FD curve loss over iterations', fontsize=fontsize+2)\n",
    "    plt.xlabel('Iteration', fontsize=fontsize+2)\n",
    "    plt.ylabel('Loss', fontsize=fontsize+2)\n",
    "    plt.xticks(fontsize=fontsize)\n",
    "    plt.yticks(fontsize=fontsize)\n",
    "    if taskName == \"A1\":\n",
    "        plt.ylim([0, 12000])\n",
    "        plt.xlim([0, numberOfIterations+1])\n",
    "    \n",
    "    plt.xticks(fontsize=fontsize)\n",
    "    plt.yticks(fontsize=fontsize)\n",
    "    plt.legend(fontsize=fontsize, loc=1)\n",
    "\n",
    "    plt.savefig(f'notebooks/iteration_evolution/{taskName}_results/FD_loss/iter_{iterName}.png', \n",
    "        transparent = False,  \n",
    "        facecolor = 'white'\n",
    "        )\n",
    "    plt.close()\n",
    "\n",
    "frames = []\n",
    "for iterName in range(1, numberOfIterations + 1):\n",
    "    image = imageio.v2.imread(f'notebooks/iteration_evolution/{taskName}_results/FD_loss/iter_{iterName}.png')\n",
    "    frames.append(image)\n",
    "\n",
    "duration = []\n",
    "if numberOfIterations < 100:\n",
    "    for i in range(numberOfIterations-1):\n",
    "        duration.append(300)\n",
    "    duration.append(3000)\n",
    "if numberOfIterations >= 100 and numberOfIterations < 200:\n",
    "    for i in range(numberOfIterations-1):\n",
    "        duration.append(200)\n",
    "    duration.append(3000)\n",
    "if numberOfIterations >= 200 and numberOfIterations < 300:\n",
    "    for i in range(numberOfIterations-1):\n",
    "        duration.append(100)\n",
    "    duration.append(3000)\n",
    "\n",
    "imageio.mimsave(f'notebooks/iteration_evolution/{taskName}_FD_loss_results.gif', \n",
    "                frames, \n",
    "                duration = duration,  # ms per image\n",
    "                loop = 0\n",
    "                )\n",
    "\n",
    "# Remove the video if it exists\n",
    "if os.path.exists(f'notebooks/iteration_evolution/{taskName}_FD_loss_results.mp4'):\n",
    "     os.remove(f'notebooks/iteration_evolution/{taskName}_FD_loss_results.mp4')\n",
    "     \n",
    "ff = ffmpy.FFmpeg(\n",
    "     executable=f\"{os.getcwd()}/notebooks/ffmpeg\",\n",
    "     inputs={f'notebooks/iteration_evolution/{taskName}_FD_loss_results.gif': None},\n",
    "     outputs={f'notebooks/iteration_evolution/{taskName}_FD_loss_results.mp4': '-pix_fmt yuv420p'}\n",
    ")\n",
    "ff.run()"
   ]
  }
 ],
 "metadata": {
  "kernelspec": {
   "display_name": "Python 3",
   "language": "python",
   "name": "python3"
  },
  "language_info": {
   "codemirror_mode": {
    "name": "ipython",
    "version": 3
   },
   "file_extension": ".py",
   "mimetype": "text/x-python",
   "name": "python",
   "nbconvert_exporter": "python",
   "pygments_lexer": "ipython3",
   "version": "3.11.3"
  },
  "orig_nbformat": 4
 },
 "nbformat": 4,
 "nbformat_minor": 2
}
