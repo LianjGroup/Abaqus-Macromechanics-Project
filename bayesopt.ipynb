{
 "cells": [
  {
   "cell_type": "code",
   "execution_count": 2,
   "metadata": {},
   "outputs": [
    {
     "name": "stdout",
     "output_type": "stream",
     "text": [
      "Requirement already satisfied: bayesian-optimization in c:\\users\\springnuance\\appdata\\local\\programs\\python\\python311\\lib\\site-packages (1.4.3)\n",
      "Requirement already satisfied: numpy>=1.9.0 in c:\\users\\springnuance\\appdata\\local\\programs\\python\\python311\\lib\\site-packages (from bayesian-optimization) (1.23.5)\n",
      "Requirement already satisfied: scipy>=1.0.0 in c:\\users\\springnuance\\appdata\\local\\programs\\python\\python311\\lib\\site-packages (from bayesian-optimization) (1.10.1)\n",
      "Requirement already satisfied: scikit-learn>=0.18.0 in c:\\users\\springnuance\\appdata\\local\\programs\\python\\python311\\lib\\site-packages (from bayesian-optimization) (1.2.2)\n",
      "Requirement already satisfied: colorama>=0.4.6 in c:\\users\\springnuance\\appdata\\local\\programs\\python\\python311\\lib\\site-packages (from bayesian-optimization) (0.4.6)\n",
      "Requirement already satisfied: joblib>=1.1.1 in c:\\users\\springnuance\\appdata\\local\\programs\\python\\python311\\lib\\site-packages (from scikit-learn>=0.18.0->bayesian-optimization) (1.2.0)\n",
      "Requirement already satisfied: threadpoolctl>=2.0.0 in c:\\users\\springnuance\\appdata\\local\\programs\\python\\python311\\lib\\site-packages (from scikit-learn>=0.18.0->bayesian-optimization) (3.1.0)\n",
      "Note: you may need to restart the kernel to use updated packages.\n"
     ]
    },
    {
     "name": "stderr",
     "output_type": "stream",
     "text": [
      "\n",
      "[notice] A new release of pip available: 22.3.1 -> 23.1.2\n",
      "[notice] To update, run: python.exe -m pip install --upgrade pip\n"
     ]
    }
   ],
   "source": [
    "%pip install bayesian-optimization"
   ]
  },
  {
   "cell_type": "code",
   "execution_count": 21,
   "metadata": {},
   "outputs": [],
   "source": [
    "# implement a dummy Bayesian optimization algorithm\n",
    "import numpy as np\n",
    "import pandas as pd\n",
    "import matplotlib.pyplot as plt\n",
    "from bayes_opt import BayesianOptimization\n",
    "from bayes_opt import UtilityFunction\n",
    "from bayes_opt.logger import JSONLogger\n",
    "from bayes_opt.event import Events\n",
    "from bayes_opt.util import load_logs\n",
    "from sklearn.gaussian_process.kernels import RBF, Matern # you can try to import other kernels from sklearn as well"
   ]
  },
  {
   "cell_type": "markdown",
   "metadata": {},
   "source": [
    "### Prepare target flow curve"
   ]
  },
  {
   "cell_type": "code",
   "execution_count": 38,
   "metadata": {},
   "outputs": [],
   "source": [
    "# Read the CSV file into a DataFrame\n",
    "df = pd.read_csv('abaqus simulation F-D fitting/Flowcurve_RT.csv')\n",
    "# print(df)\n",
    "# Extract the true strain and average true stress columns\n",
    "trueStrain = df['True strain']\n",
    "trueStress = df['Avg.True stress']"
   ]
  },
  {
   "cell_type": "code",
   "execution_count": 39,
   "metadata": {},
   "outputs": [],
   "source": [
    "# Continuous searching space\n",
    "param_bounds = {\n",
    "    \"c1\": (500, 2000),  \n",
    "    \"c2\": (0.1, 10),    \n",
    "    \"c3\": (0.01, 0.1)  \n",
    "}\n",
    "\n",
    "# Swift Laws\n",
    "def swift_law(c1,c2,c3,strain):\n",
    "    stress=c1*(c2+strain)**c3 #3 parameter \n",
    "    return(stress)\n",
    "\n",
    "# Note: BO in Bayes-Opt tries to maximize, so you should use the inverse of the loss function.\n",
    "def lossFunction(**solution):\n",
    "    c1 = solution[\"c1\"]\n",
    "    c2 = solution[\"c2\"]\n",
    "    c3 = solution[\"c3\"]\n",
    "    simStress = swift_law(c1,c2,c3,trueStrain)\n",
    "    # RMSE loss\n",
    "    fitness = np.sqrt(np.mean((simStress - trueStress)**2))\n",
    "    loss = 1.0 / fitness\n",
    "    return loss"
   ]
  },
  {
   "cell_type": "code",
   "execution_count": 45,
   "metadata": {},
   "outputs": [],
   "source": [
    "class BO():\n",
    "    \n",
    "    ##################################\n",
    "    # OPTIMIZER CLASS INITIALIZATION #\n",
    "    ##################################\n",
    "\n",
    "    def __init__(self):        \n",
    "        #############################\n",
    "        # Optimizer hyperparameters #\n",
    "        #############################\n",
    "        \n",
    "        # maximize parameters\n",
    "        self.verbose = 1 # 0 for no output, 1 for some output printing\n",
    "        self.random_state = 123 # random seed\n",
    "        self.init_points = 100 # number of initial points to sample randomly for Bayesian optimization\n",
    "        self.iterations = 100 # number of iterations to run Bayesian optimization\n",
    "        \n",
    "        # Acquisition function        \n",
    "        # Low kappa means more exploitation for UCB\n",
    "        # High kappa means more exploration for UCB\n",
    "        # Low xi means more exploitation for EI and POI\n",
    "        # High xi means more exploration for EI and POI\n",
    "        self.acquisitionFunction = UtilityFunction(kind='ucb', kappa=2.576, xi=0, kappa_decay=1, kappa_decay_delay=0)\n",
    "        #self.acquisitionFunction = UtilityFunction(kind='poi', kappa=2.576, xi=0, kappa_decay=1, kappa_decay_delay=0)\n",
    "        #self.acquisitionFunction = UtilityFunction(kind='ei', kappa=2.576, xi=0, kappa_decay=1, kappa_decay_delay=0)\n",
    "        \n",
    "        # Gaussian process kernel parameters\n",
    "        self.GP_kernel = RBF(length_scale=1.0, length_scale_bounds=(1e-3, 1e3)) # RBF kernel\n",
    "        #self.GP_kernel = Matern(nu=2.5) # Matern kernel\n",
    "        self.alpha = 1e-6\n",
    "        self.normalize_y=True\n",
    "        self.n_restarts_optimizer=5\n",
    "        \n",
    "    ##########################\n",
    "    # OPTIMIZATION FUNCTIONS #\n",
    "    ##########################\n",
    "\n",
    "    def initializeOptimizer(self, lossFunction, param_bounds):\n",
    "        self.param_bounds = param_bounds\n",
    "        BO_bounds = param_bounds\n",
    "        bo_instance = BayesianOptimization(\n",
    "            f = lossFunction,\n",
    "            pbounds = BO_bounds, \n",
    "            verbose = self.verbose,\n",
    "            random_state = self.random_state,\n",
    "            bounds_transformer = None,\n",
    "            allow_duplicate_points = False\n",
    "        )\n",
    "        bo_instance.set_gp_params(\n",
    "            kernel=self.GP_kernel,\n",
    "            alpha=self.alpha,\n",
    "            normalize_y=self.normalize_y,\n",
    "            n_restarts_optimizer=self.n_restarts_optimizer,\n",
    "            random_state=self.random_state,\n",
    "        )\n",
    "        self.optimizer = bo_instance\n",
    "\n",
    "    def run(self):\n",
    "        self.optimizer.maximize(\n",
    "            init_points = self.init_points, \n",
    "            n_iter = self.iterations,   \n",
    "            acquisition_function=self.acquisitionFunction, \n",
    "        )\n",
    "        \n",
    "    def outputResult(self):\n",
    "        solution_dict = self.optimizer.max[\"params\"]\n",
    "        solution_tuple = tuple(solution_dict.items())\n",
    "        best_solution_loss = self.optimizer.max[\"target\"]\n",
    "        return solution_dict, solution_tuple, best_solution_loss"
   ]
  },
  {
   "cell_type": "code",
   "execution_count": 46,
   "metadata": {},
   "outputs": [
    {
     "name": "stdout",
     "output_type": "stream",
     "text": [
      "|   iter    |  target   |    c1     |    c2     |    c3     |\n",
      "-------------------------------------------------------------\n",
      "| \u001b[95m2        \u001b[0m | \u001b[95m0.00201  \u001b[0m | \u001b[95m1.327e+03\u001b[0m | \u001b[95m7.223    \u001b[0m | \u001b[95m0.04808  \u001b[0m |\n",
      "| \u001b[95m4        \u001b[0m | \u001b[95m0.004105 \u001b[0m | \u001b[95m1.088e+03\u001b[0m | \u001b[95m3.497    \u001b[0m | \u001b[95m0.07561  \u001b[0m |\n",
      "| \u001b[95m5        \u001b[0m | \u001b[95m0.005213 \u001b[0m | \u001b[95m1.158e+03\u001b[0m | \u001b[95m0.6908   \u001b[0m | \u001b[95m0.04582  \u001b[0m |\n",
      "| \u001b[95m10       \u001b[0m | \u001b[95m0.009144 \u001b[0m | \u001b[95m842.4    \u001b[0m | \u001b[95m3.008    \u001b[0m | \u001b[95m0.06679  \u001b[0m |\n",
      "| \u001b[95m16       \u001b[0m | \u001b[95m0.009564 \u001b[0m | \u001b[95m875.7    \u001b[0m | \u001b[95m4.882    \u001b[0m | \u001b[95m0.0987   \u001b[0m |\n",
      "| \u001b[95m43       \u001b[0m | \u001b[95m0.009605 \u001b[0m | \u001b[95m886.3    \u001b[0m | \u001b[95m5.687    \u001b[0m | \u001b[95m0.08263  \u001b[0m |\n",
      "| \u001b[95m52       \u001b[0m | \u001b[95m0.0107   \u001b[0m | \u001b[95m959.7    \u001b[0m | \u001b[95m6.686    \u001b[0m | \u001b[95m0.02003  \u001b[0m |\n",
      "| \u001b[95m77       \u001b[0m | \u001b[95m0.01107  \u001b[0m | \u001b[95m970.5    \u001b[0m | \u001b[95m0.5687   \u001b[0m | \u001b[95m0.03175  \u001b[0m |\n",
      "| \u001b[95m103      \u001b[0m | \u001b[95m0.01114  \u001b[0m | \u001b[95m916.4    \u001b[0m | \u001b[95m9.914    \u001b[0m | \u001b[95m0.02738  \u001b[0m |\n",
      "| \u001b[95m125      \u001b[0m | \u001b[95m0.01121  \u001b[0m | \u001b[95m957.5    \u001b[0m | \u001b[95m1.024    \u001b[0m | \u001b[95m0.07529  \u001b[0m |\n",
      "| \u001b[95m148      \u001b[0m | \u001b[95m0.01122  \u001b[0m | \u001b[95m938.7    \u001b[0m | \u001b[95m1.433    \u001b[0m | \u001b[95m0.07365  \u001b[0m |\n",
      "| \u001b[95m166      \u001b[0m | \u001b[95m0.01134  \u001b[0m | \u001b[95m1.02e+03 \u001b[0m | \u001b[95m0.1164   \u001b[0m | \u001b[95m0.03435  \u001b[0m |\n",
      "=============================================================\n",
      "{'c1': 1020.354389809241, 'c2': 0.11635268154942591, 'c3': 0.03434589503698687}\n",
      "c1: 1020.354389809241\n",
      "c2: 0.11635268154942591\n",
      "c3: 0.03434589503698687\n",
      "Best solution fitness = 0.0113\n"
     ]
    }
   ],
   "source": [
    "BO_instance = BO()\n",
    "BO_instance.initializeOptimizer(lossFunction, param_bounds)\n",
    "BO_instance.run()\n",
    "solution_dict, solution_tuple, best_solution_loss = BO_instance.outputResult()\n",
    "print(solution_dict)\n",
    "\n",
    "for param in solution_dict:\n",
    "    print(f\"{param}: {solution_dict[param]}\")\n",
    "\n",
    "print(f\"Best solution loss = {best_solution_loss:.4f}\")"
   ]
  },
  {
   "cell_type": "code",
   "execution_count": null,
   "metadata": {},
   "outputs": [],
   "source": [
    "# Saving, loading and restarting"
   ]
  }
 ],
 "metadata": {
  "kernelspec": {
   "display_name": "Python 3",
   "language": "python",
   "name": "python3"
  },
  "language_info": {
   "codemirror_mode": {
    "name": "ipython",
    "version": 3
   },
   "file_extension": ".py",
   "mimetype": "text/x-python",
   "name": "python",
   "nbconvert_exporter": "python",
   "pygments_lexer": "ipython3",
   "version": "3.11.3"
  },
  "orig_nbformat": 4
 },
 "nbformat": 4,
 "nbformat_minor": 2
}
