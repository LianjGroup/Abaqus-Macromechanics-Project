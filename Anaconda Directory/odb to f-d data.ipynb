{
 "cells": [
  {
   "cell_type": "code",
   "execution_count": 2,
   "id": "31211a40",
   "metadata": {},
   "outputs": [
    {
     "ename": "KeyError",
     "evalue": "'Move'",
     "output_type": "error",
     "traceback": [
      "\u001b[1;31m---------------------------------------------------------------------------\u001b[0m",
      "\u001b[1;31mKeyError\u001b[0m                                  Traceback (most recent call last)",
      "\u001b[1;32m~\\AppData\\Local\\Temp\\ipykernel_14876\\1559349840.py\u001b[0m in \u001b[0;36m<module>\u001b[1;34m\u001b[0m\n\u001b[0;32m     15\u001b[0m \u001b[1;33m\u001b[0m\u001b[0m\n\u001b[0;32m     16\u001b[0m \u001b[1;31m# Get the step and frame\u001b[0m\u001b[1;33m\u001b[0m\u001b[1;33m\u001b[0m\u001b[0m\n\u001b[1;32m---> 17\u001b[1;33m \u001b[0mstep\u001b[0m \u001b[1;33m=\u001b[0m \u001b[0modb\u001b[0m\u001b[1;33m.\u001b[0m\u001b[0msteps\u001b[0m\u001b[1;33m[\u001b[0m\u001b[0mstepName\u001b[0m\u001b[1;33m]\u001b[0m\u001b[1;33m\u001b[0m\u001b[1;33m\u001b[0m\u001b[0m\n\u001b[0m\u001b[0;32m     18\u001b[0m \u001b[0mframe\u001b[0m \u001b[1;33m=\u001b[0m \u001b[0mstep\u001b[0m\u001b[1;33m.\u001b[0m\u001b[0mframes\u001b[0m\u001b[1;33m[\u001b[0m\u001b[0mframeNumber\u001b[0m\u001b[1;33m]\u001b[0m\u001b[1;33m\u001b[0m\u001b[1;33m\u001b[0m\u001b[0m\n\u001b[0;32m     19\u001b[0m \u001b[1;33m\u001b[0m\u001b[0m\n",
      "\u001b[1;31mKeyError\u001b[0m: 'Move'"
     ]
    }
   ],
   "source": [
    "from abaqus import *\n",
    "from abaqusConstants import *\n",
    "\n",
    "odbPath = 'C:\\SIMULIA\\temp\\ndbtest\\ndb50.odb' \n",
    "\n",
    "odb = session.openOdb(odbPath)\n",
    "\n",
    "assembly = odb.rootAssembly\n",
    "\n",
    "stepName = 'Move' \n",
    "frameNumber = -1 \n",
    "\n",
    "step = odb.steps[stepName]\n",
    "frame = step.frames[frameNumber]\n",
    "\n",
    "reactionForces = frame.fieldOutputs['RF']\n",
    "forceComponents = reactionForces.getSubset(region=assembly)\n",
    "totalForce = [0.0, 0.0, 0.0]  # Initialize total force components\n",
    "\n",
    "# Sum the reaction forces\n",
    "for forceComponent in forceComponents.values:\n",
    "    totalForce[2] += forceComponent.data[2]\n",
    "\n",
    "print(\"Total Reaction Force: \", totalForce)\n",
    "\n",
    "displacements = frame.fieldOutputs['U']\n",
    "nodeLabel = 30837 \n",
    "\n",
    "node = assembly.instances['Your_Instance_Name'].nodes[nodeLabel]  # Replace with the actual instance name\n",
    "\n",
    "displacement = displacements.getSubset(region=node)\n",
    "\n",
    "print(\"Node Displacement: \", displacement.values[0].data)\n",
    "\n",
    "odb.close()\n"
   ]
  },
  {
   "cell_type": "code",
   "execution_count": 16,
   "id": "be260b32",
   "metadata": {},
   "outputs": [
    {
     "name": "stdout",
     "output_type": "stream",
     "text": [
      "Available Step Names:  dict_keys([])\n"
     ]
    }
   ],
   "source": [
    "from odbAccess import *\n",
    "\n",
    "odbPath = r'C:\\SIMULIA\\temp\\ndbtest\\ndb50.odb'\n",
    "\n",
    "# Open the .odb file\n",
    "odb = session.openOdb(odbPath)\n",
    "\n",
    "# Get the available step names\n",
    "stepNames = odb.steps.keys()\n",
    "\n",
    "# Print the step names\n",
    "print(\"Available Step Names: \", stepNames)\n",
    "\n",
    "# Close the .odb file\n",
    "odb.close()\n"
   ]
  },
  {
   "cell_type": "code",
   "execution_count": 18,
   "id": "ea8f9672",
   "metadata": {},
   "outputs": [
    {
     "name": "stdout",
     "output_type": "stream",
     "text": [
      "ODB file opened successfully.\n",
      "File Path:  C:\\SIMULIA\\temp\\ndbtest\\ndb50.odb\n"
     ]
    }
   ],
   "source": [
    "from odbAccess import *\n",
    "\n",
    "odbPath = r'C:\\SIMULIA\\temp\\ndbtest\\ndb50.odb'\n",
    "\n",
    "# Open the .odb file\n",
    "odb = session.openOdb(odbPath)\n",
    "\n",
    "if odb is not None:\n",
    "    print(\"ODB file opened successfully.\")\n",
    "    print(\"File Path: \", odbPath)\n",
    "else:\n",
    "    print(\"Failed to open ODB file.\")\n",
    "\n",
    "odb.close()\n"
   ]
  },
  {
   "cell_type": "code",
   "execution_count": 15,
   "id": "a43bda3b",
   "metadata": {},
   "outputs": [
    {
     "name": "stdout",
     "output_type": "stream",
     "text": [
      "ODB file opened successfully.\n",
      "File Path:  C:\\SIMULIA\\temp\\ndbtest\\ndb50.odb\n"
     ]
    },
    {
     "ename": "KeyError",
     "evalue": "'Move'",
     "output_type": "error",
     "traceback": [
      "\u001b[1;31m---------------------------------------------------------------------------\u001b[0m",
      "\u001b[1;31mKeyError\u001b[0m                                  Traceback (most recent call last)",
      "\u001b[1;32m~\\AppData\\Local\\Temp\\ipykernel_14876\\1482791048.py\u001b[0m in \u001b[0;36m<module>\u001b[1;34m\u001b[0m\n\u001b[0;32m     13\u001b[0m     \u001b[1;31m# Get the step \"Move\" from the .odb file\u001b[0m\u001b[1;33m\u001b[0m\u001b[1;33m\u001b[0m\u001b[0m\n\u001b[0;32m     14\u001b[0m     \u001b[0mstepName\u001b[0m \u001b[1;33m=\u001b[0m \u001b[1;34m'Move'\u001b[0m  \u001b[1;31m# Replace with the correct step name\u001b[0m\u001b[1;33m\u001b[0m\u001b[1;33m\u001b[0m\u001b[0m\n\u001b[1;32m---> 15\u001b[1;33m     \u001b[0mstep\u001b[0m \u001b[1;33m=\u001b[0m \u001b[0modb\u001b[0m\u001b[1;33m.\u001b[0m\u001b[0msteps\u001b[0m\u001b[1;33m[\u001b[0m\u001b[0mstepName\u001b[0m\u001b[1;33m]\u001b[0m\u001b[1;33m\u001b[0m\u001b[1;33m\u001b[0m\u001b[0m\n\u001b[0m\u001b[0;32m     16\u001b[0m \u001b[1;33m\u001b[0m\u001b[0m\n\u001b[0;32m     17\u001b[0m     \u001b[1;31m# Extract the force from field output\u001b[0m\u001b[1;33m\u001b[0m\u001b[1;33m\u001b[0m\u001b[0m\n",
      "\u001b[1;31mKeyError\u001b[0m: 'Move'"
     ]
    }
   ],
   "source": [
    "from odbAccess import *\n",
    "\n",
    "odbPath = r'C:\\SIMULIA\\temp\\ndbtest\\ndb50.odb'\n",
    "\n",
    "odb = session.openOdb(odbPath)\n",
    "\n",
    "if odb is not None:\n",
    "    print(\"ODB file opened successfully.\")\n",
    "    print(\"File Path: \", odbPath)\n",
    "    \n",
    "    stepName = 'Move' \n",
    "    step = odb.steps[stepName]\n",
    "    \n",
    "    # field output\n",
    "    forceFieldOutput = step.frames[-1].fieldOutputs['RF']\n",
    "    force = forceFieldOutput.getSum()\n",
    "    print(\"Total Reaction Force: \", force)\n",
    "    \n",
    "    nodeId = 1 \n",
    "    displacementFieldOutput = step.frames[-1].fieldOutputs['U']\n",
    "    displacement = displacementFieldOutput.values[nodeId-1].data\n",
    "    print(\"Displacement of Node {}: \".format(nodeId), displacement)\n",
    "    \n",
    "else:\n",
    "    print(\"Failed to open ODB file.\")\n",
    "\n",
    "# Close the .odb file\n",
    "odb.close()\n"
   ]
  }
 ],
 "metadata": {
  "kernelspec": {
   "display_name": "Python 3 (ipykernel)",
   "language": "python",
   "name": "python3"
  },
  "language_info": {
   "codemirror_mode": {
    "name": "ipython",
    "version": 3
   },
   "file_extension": ".py",
   "mimetype": "text/x-python",
   "name": "python",
   "nbconvert_exporter": "python",
   "pygments_lexer": "ipython3",
   "version": "3.9.16"
  }
 },
 "nbformat": 4,
 "nbformat_minor": 5
}
