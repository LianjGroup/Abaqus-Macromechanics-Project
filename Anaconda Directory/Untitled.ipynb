{
 "cells": [
  {
   "cell_type": "code",
   "execution_count": 1,
   "id": "c9f19c48",
   "metadata": {},
   "outputs": [],
   "source": [
    "import numpy as np\n",
    "import pandas as pd"
   ]
  },
  {
   "cell_type": "code",
   "execution_count": null,
   "id": "482738af",
   "metadata": {},
   "outputs": [],
   "source": []
  },
  {
   "cell_type": "code",
   "execution_count": 2,
   "id": "ea6df505",
   "metadata": {},
   "outputs": [],
   "source": [
    "import matplotlib.pyplot as mp"
   ]
  },
  {
   "cell_type": "code",
   "execution_count": 3,
   "id": "7a893250",
   "metadata": {},
   "outputs": [],
   "source": [
    "df = pd.read_csv(\"Flowcurve_RT.csv\")"
   ]
  },
  {
   "cell_type": "code",
   "execution_count": 4,
   "id": "fa64ac98",
   "metadata": {
    "scrolled": true
   },
   "outputs": [
    {
     "data": {
      "text/html": [
       "<div>\n",
       "<style scoped>\n",
       "    .dataframe tbody tr th:only-of-type {\n",
       "        vertical-align: middle;\n",
       "    }\n",
       "\n",
       "    .dataframe tbody tr th {\n",
       "        vertical-align: top;\n",
       "    }\n",
       "\n",
       "    .dataframe thead th {\n",
       "        text-align: right;\n",
       "    }\n",
       "</style>\n",
       "<table border=\"1\" class=\"dataframe\">\n",
       "  <thead>\n",
       "    <tr style=\"text-align: right;\">\n",
       "      <th></th>\n",
       "      <th>True strain</th>\n",
       "      <th>Avg.True stress</th>\n",
       "    </tr>\n",
       "  </thead>\n",
       "  <tbody>\n",
       "    <tr>\n",
       "      <th>0</th>\n",
       "      <td>0.0000</td>\n",
       "      <td>379.759745</td>\n",
       "    </tr>\n",
       "    <tr>\n",
       "      <th>1</th>\n",
       "      <td>0.0002</td>\n",
       "      <td>531.111195</td>\n",
       "    </tr>\n",
       "    <tr>\n",
       "      <th>2</th>\n",
       "      <td>0.0004</td>\n",
       "      <td>597.906447</td>\n",
       "    </tr>\n",
       "    <tr>\n",
       "      <th>3</th>\n",
       "      <td>0.0006</td>\n",
       "      <td>637.071251</td>\n",
       "    </tr>\n",
       "    <tr>\n",
       "      <th>4</th>\n",
       "      <td>0.0008</td>\n",
       "      <td>669.644323</td>\n",
       "    </tr>\n",
       "    <tr>\n",
       "      <th>...</th>\n",
       "      <td>...</td>\n",
       "      <td>...</td>\n",
       "    </tr>\n",
       "    <tr>\n",
       "      <th>261</th>\n",
       "      <td>0.0522</td>\n",
       "      <td>1042.225503</td>\n",
       "    </tr>\n",
       "    <tr>\n",
       "      <th>262</th>\n",
       "      <td>0.0524</td>\n",
       "      <td>1042.443180</td>\n",
       "    </tr>\n",
       "    <tr>\n",
       "      <th>263</th>\n",
       "      <td>0.0526</td>\n",
       "      <td>1042.666445</td>\n",
       "    </tr>\n",
       "    <tr>\n",
       "      <th>264</th>\n",
       "      <td>0.0528</td>\n",
       "      <td>1042.831662</td>\n",
       "    </tr>\n",
       "    <tr>\n",
       "      <th>265</th>\n",
       "      <td>0.0530</td>\n",
       "      <td>1043.122901</td>\n",
       "    </tr>\n",
       "  </tbody>\n",
       "</table>\n",
       "<p>266 rows × 2 columns</p>\n",
       "</div>"
      ],
      "text/plain": [
       "     True strain  Avg.True stress\n",
       "0         0.0000       379.759745\n",
       "1         0.0002       531.111195\n",
       "2         0.0004       597.906447\n",
       "3         0.0006       637.071251\n",
       "4         0.0008       669.644323\n",
       "..           ...              ...\n",
       "261       0.0522      1042.225503\n",
       "262       0.0524      1042.443180\n",
       "263       0.0526      1042.666445\n",
       "264       0.0528      1042.831662\n",
       "265       0.0530      1043.122901\n",
       "\n",
       "[266 rows x 2 columns]"
      ]
     },
     "execution_count": 4,
     "metadata": {},
     "output_type": "execute_result"
    }
   ],
   "source": [
    "df"
   ]
  },
  {
   "cell_type": "code",
   "execution_count": 5,
   "id": "3efa5c65",
   "metadata": {},
   "outputs": [
    {
     "data": {
      "text/plain": [
       "[<matplotlib.lines.Line2D at 0x1b3ea6c5d90>]"
      ]
     },
     "execution_count": 5,
     "metadata": {},
     "output_type": "execute_result"
    },
    {
     "data": {
      "image/png": "[encoded data removed]",
      "text/plain": [
       "<Figure size 640x480 with 1 Axes>"
      ]
     },
     "metadata": {},
     "output_type": "display_data"
    }
   ],
   "source": [
    "mp.plot(df[\"True strain\"],df[\"Avg.True stress\"])"
   ]
  },
  {
   "cell_type": "code",
   "execution_count": null,
   "id": "545aab10",
   "metadata": {},
   "outputs": [],
   "source": []
  },
  {
   "cell_type": "code",
   "execution_count": null,
   "id": "65819970",
   "metadata": {},
   "outputs": [],
   "source": []
  },
  {
   "cell_type": "code",
   "execution_count": 6,
   "id": "9ac6d3bc",
   "metadata": {},
   "outputs": [],
   "source": [
    "newdf=pd.read_csv(\"Disp-Force_ExpRT_ndb50.csv\")"
   ]
  },
  {
   "cell_type": "code",
   "execution_count": 7,
   "id": "a605abf5",
   "metadata": {},
   "outputs": [
    {
     "data": {
      "text/html": [
       "<div>\n",
       "<style scoped>\n",
       "    .dataframe tbody tr th:only-of-type {\n",
       "        vertical-align: middle;\n",
       "    }\n",
       "\n",
       "    .dataframe tbody tr th {\n",
       "        vertical-align: top;\n",
       "    }\n",
       "\n",
       "    .dataframe thead th {\n",
       "        text-align: right;\n",
       "    }\n",
       "</style>\n",
       "<table border=\"1\" class=\"dataframe\">\n",
       "  <thead>\n",
       "    <tr style=\"text-align: right;\">\n",
       "      <th></th>\n",
       "      <th>Disp /mm</th>\n",
       "      <th>Force /kN</th>\n",
       "    </tr>\n",
       "  </thead>\n",
       "  <tbody>\n",
       "    <tr>\n",
       "      <th>0</th>\n",
       "      <td>0.016297</td>\n",
       "      <td>0.537541</td>\n",
       "    </tr>\n",
       "    <tr>\n",
       "      <th>1</th>\n",
       "      <td>0.016530</td>\n",
       "      <td>0.318114</td>\n",
       "    </tr>\n",
       "    <tr>\n",
       "      <th>2</th>\n",
       "      <td>0.016579</td>\n",
       "      <td>0.340907</td>\n",
       "    </tr>\n",
       "    <tr>\n",
       "      <th>3</th>\n",
       "      <td>0.017121</td>\n",
       "      <td>0.372784</td>\n",
       "    </tr>\n",
       "    <tr>\n",
       "      <th>4</th>\n",
       "      <td>0.017528</td>\n",
       "      <td>0.409912</td>\n",
       "    </tr>\n",
       "    <tr>\n",
       "      <th>...</th>\n",
       "      <td>...</td>\n",
       "      <td>...</td>\n",
       "    </tr>\n",
       "    <tr>\n",
       "      <th>994</th>\n",
       "      <td>1.905610</td>\n",
       "      <td>11.360361</td>\n",
       "    </tr>\n",
       "    <tr>\n",
       "      <th>995</th>\n",
       "      <td>1.919291</td>\n",
       "      <td>11.213294</td>\n",
       "    </tr>\n",
       "    <tr>\n",
       "      <th>996</th>\n",
       "      <td>1.933557</td>\n",
       "      <td>11.052417</td>\n",
       "    </tr>\n",
       "    <tr>\n",
       "      <th>997</th>\n",
       "      <td>1.948302</td>\n",
       "      <td>10.875287</td>\n",
       "    </tr>\n",
       "    <tr>\n",
       "      <th>998</th>\n",
       "      <td>1.963861</td>\n",
       "      <td>10.667651</td>\n",
       "    </tr>\n",
       "  </tbody>\n",
       "</table>\n",
       "<p>999 rows × 2 columns</p>\n",
       "</div>"
      ],
      "text/plain": [
       "     Disp /mm  Force /kN\n",
       "0    0.016297   0.537541\n",
       "1    0.016530   0.318114\n",
       "2    0.016579   0.340907\n",
       "3    0.017121   0.372784\n",
       "4    0.017528   0.409912\n",
       "..        ...        ...\n",
       "994  1.905610  11.360361\n",
       "995  1.919291  11.213294\n",
       "996  1.933557  11.052417\n",
       "997  1.948302  10.875287\n",
       "998  1.963861  10.667651\n",
       "\n",
       "[999 rows x 2 columns]"
      ]
     },
     "execution_count": 7,
     "metadata": {},
     "output_type": "execute_result"
    }
   ],
   "source": [
    "newdf"
   ]
  },
  {
   "cell_type": "code",
   "execution_count": 8,
   "id": "58e15f48",
   "metadata": {},
   "outputs": [],
   "source": [
    "li=60\n"
   ]
  },
  {
   "cell_type": "code",
   "execution_count": 9,
   "id": "99cc94a7",
   "metadata": {},
   "outputs": [],
   "source": [
    "cs=10.2"
   ]
  },
  {
   "cell_type": "code",
   "execution_count": 10,
   "id": "1f2329e7",
   "metadata": {},
   "outputs": [],
   "source": [
    "stress=newdf[\"Force /kN\"]/(0.740*cs)"
   ]
  },
  {
   "cell_type": "code",
   "execution_count": 11,
   "id": "f538fa6f",
   "metadata": {},
   "outputs": [],
   "source": [
    "strain=newdf[\"Disp /mm\"]/li"
   ]
  },
  {
   "cell_type": "code",
   "execution_count": 12,
   "id": "69c69e27",
   "metadata": {},
   "outputs": [
    {
     "data": {
      "text/plain": [
       "(0      0.071216\n",
       " 1      0.042145\n",
       " 2      0.045165\n",
       " 3      0.049388\n",
       " 4      0.054307\n",
       "          ...   \n",
       " 994    1.505082\n",
       " 995    1.485598\n",
       " 996    1.464284\n",
       " 997    1.440817\n",
       " 998    1.413308\n",
       " Name: Force /kN, Length: 999, dtype: float64,\n",
       " 0      0.000272\n",
       " 1      0.000276\n",
       " 2      0.000276\n",
       " 3      0.000285\n",
       " 4      0.000292\n",
       "          ...   \n",
       " 994    0.031760\n",
       " 995    0.031988\n",
       " 996    0.032226\n",
       " 997    0.032472\n",
       " 998    0.032731\n",
       " Name: Disp /mm, Length: 999, dtype: float64)"
      ]
     },
     "execution_count": 12,
     "metadata": {},
     "output_type": "execute_result"
    }
   ],
   "source": [
    "stress,strain"
   ]
  },
  {
   "cell_type": "code",
   "execution_count": 13,
   "id": "98e56a63",
   "metadata": {},
   "outputs": [
    {
     "data": {
      "image/png": "[encoded data removed]",
      "text/plain": [
       "<Figure size 640x480 with 1 Axes>"
      ]
     },
     "metadata": {},
     "output_type": "display_data"
    }
   ],
   "source": [
    "#mp.plot(df[\"True strain\"],df[\"Avg.True stress\"])\n",
    "mp.plot(strain,stress)\n",
    "mp.show()"
   ]
  },
  {
   "cell_type": "code",
   "execution_count": 14,
   "id": "b5649359",
   "metadata": {},
   "outputs": [
    {
     "ename": "FileNotFoundError",
     "evalue": "[Errno 2] No such file or directory: 'C:/Users/zopev1/Abaqus Directory/output.dat'",
     "output_type": "error",
     "traceback": [
      "\u001b[1;31m---------------------------------------------------------------------------\u001b[0m",
      "\u001b[1;31mFileNotFoundError\u001b[0m                         Traceback (most recent call last)",
      "\u001b[1;32m~\\AppData\\Local\\Temp\\ipykernel_20204\\4262167948.py\u001b[0m in \u001b[0;36m<module>\u001b[1;34m\u001b[0m\n\u001b[0;32m     12\u001b[0m \u001b[1;33m\u001b[0m\u001b[0m\n\u001b[0;32m     13\u001b[0m \u001b[1;31m# Read output file\u001b[0m\u001b[1;33m\u001b[0m\u001b[1;33m\u001b[0m\u001b[0m\n\u001b[1;32m---> 14\u001b[1;33m \u001b[1;32mwith\u001b[0m \u001b[0mopen\u001b[0m\u001b[1;33m(\u001b[0m\u001b[0moutput_file\u001b[0m\u001b[1;33m,\u001b[0m \u001b[1;34m'r'\u001b[0m\u001b[1;33m)\u001b[0m \u001b[1;32mas\u001b[0m \u001b[0mf\u001b[0m\u001b[1;33m:\u001b[0m\u001b[1;33m\u001b[0m\u001b[1;33m\u001b[0m\u001b[0m\n\u001b[0m\u001b[0;32m     15\u001b[0m     \u001b[0mresults\u001b[0m \u001b[1;33m=\u001b[0m \u001b[0mf\u001b[0m\u001b[1;33m.\u001b[0m\u001b[0mread\u001b[0m\u001b[1;33m(\u001b[0m\u001b[1;33m)\u001b[0m\u001b[1;33m\u001b[0m\u001b[1;33m\u001b[0m\u001b[0m\n",
      "\u001b[1;31mFileNotFoundError\u001b[0m: [Errno 2] No such file or directory: 'C:/Users/zopev1/Abaqus Directory/output.dat'"
     ]
    }
   ],
   "source": [
    "# Import modules\n",
    "import os\n",
    "import subprocess\n",
    "\n",
    "# Define file paths\n",
    "input_file = 'C:/Users/zopev1/Abaqus Directory/ndb50.inp'\n",
    "output_file = 'C:/Users/zopev1/Abaqus Directory/output.dat'\n",
    "abaqus_exe = 'abaqus'\n",
    "\n",
    "abaqus_cmd = f'{abaqus_exe} job={input_file} user=python interactive ask_delete=OFF output={output_file}'\n",
    "subprocess.run(abaqus_cmd, shell=True)\n",
    "\n",
    "# Read output file\n",
    "with open(output_file, 'r') as f:\n",
    "    results = f.read()"
   ]
  },
  {
   "cell_type": "code",
   "execution_count": null,
   "id": "893be7ba",
   "metadata": {},
   "outputs": [],
   "source": [
    "with open(output_file, 'r') as f:\n",
    "    input = f.read()\n",
    "input"
   ]
  },
  {
   "cell_type": "code",
   "execution_count": null,
   "id": "83cd0239",
   "metadata": {},
   "outputs": [],
   "source": [
    "from abaqus import *\n",
    "from abaqusConstants import *\n",
    "\n",
    "# Set up the job\n",
    "jobName = 'test'\n",
    "myModel = mdb.models['Model-1']\n",
    "myJob = mdb.Job(name=jobName, model=myModel)\n",
    "\n",
    "# Submit the job\n",
    "myJob.submit()"
   ]
  },
  {
   "cell_type": "code",
   "execution_count": null,
   "id": "9261ea03",
   "metadata": {},
   "outputs": [],
   "source": [
    "def submit_job():\n",
    "    myJob = mdb.JobFromInputFile(name=\"MyJob\", inputFileName=\"MyJob.inp\")\n",
    "    myJob.submit()\n",
    "    myJob.waitForCompletion()\n",
    "    print(\"Job submission complete.\")"
   ]
  },
  {
   "cell_type": "code",
   "execution_count": 15,
   "id": "3e0ef20e",
   "metadata": {},
   "outputs": [
    {
     "name": "stdout",
     "output_type": "stream",
     "text": [
      "\n",
      "Note: you may need to restart the kernel to use updated packages.\n"
     ]
    }
   ],
   "source": [
    "conda activate Abaqus"
   ]
  },
  {
   "cell_type": "code",
   "execution_count": 18,
   "id": "2bfb0d66",
   "metadata": {},
   "outputs": [
    {
     "ename": "AttributeError",
     "evalue": "'Model' object has no attribute 'Job'",
     "output_type": "error",
     "traceback": [
      "\u001b[1;31m---------------------------------------------------------------------------\u001b[0m",
      "\u001b[1;31mAttributeError\u001b[0m                            Traceback (most recent call last)",
      "\u001b[1;32m~\\AppData\\Local\\Temp\\ipykernel_20204\\1170756233.py\u001b[0m in \u001b[0;36m<module>\u001b[1;34m\u001b[0m\n\u001b[0;32m     26\u001b[0m     \u001b[0mprint\u001b[0m\u001b[1;33m(\u001b[0m\u001b[1;34m\"Model setup complete.\"\u001b[0m\u001b[1;33m)\u001b[0m\u001b[1;33m\u001b[0m\u001b[1;33m\u001b[0m\u001b[0m\n\u001b[0;32m     27\u001b[0m \u001b[1;33m\u001b[0m\u001b[0m\n\u001b[1;32m---> 28\u001b[1;33m \u001b[0mcreate_model\u001b[0m\u001b[1;33m(\u001b[0m\u001b[1;33m)\u001b[0m\u001b[1;33m\u001b[0m\u001b[1;33m\u001b[0m\u001b[0m\n\u001b[0m",
      "\u001b[1;32m~\\AppData\\Local\\Temp\\ipykernel_20204\\1170756233.py\u001b[0m in \u001b[0;36mcreate_model\u001b[1;34m()\u001b[0m\n\u001b[0;32m     21\u001b[0m     \u001b[1;31m# ...\u001b[0m\u001b[1;33m\u001b[0m\u001b[1;33m\u001b[0m\u001b[0m\n\u001b[0;32m     22\u001b[0m     \u001b[0mmyModel\u001b[0m\u001b[1;33m.\u001b[0m\u001b[0mrootAssembly\u001b[0m\u001b[1;33m.\u001b[0m\u001b[0mInstance\u001b[0m\u001b[1;33m(\u001b[0m\u001b[0mname\u001b[0m\u001b[1;33m=\u001b[0m\u001b[1;34m\"MyPart-1\"\u001b[0m\u001b[1;33m,\u001b[0m \u001b[0mpart\u001b[0m\u001b[1;33m=\u001b[0m\u001b[0mmyPart\u001b[0m\u001b[1;33m)\u001b[0m\u001b[1;33m\u001b[0m\u001b[1;33m\u001b[0m\u001b[0m\n\u001b[1;32m---> 23\u001b[1;33m     \u001b[0mmyModel\u001b[0m\u001b[1;33m.\u001b[0m\u001b[0mJob\u001b[0m\u001b[1;33m(\u001b[0m\u001b[0mname\u001b[0m\u001b[1;33m=\u001b[0m\u001b[1;34m\"MyJob\"\u001b[0m\u001b[1;33m,\u001b[0m \u001b[0mmodel\u001b[0m\u001b[1;33m=\u001b[0m\u001b[1;34m\"MyModel\"\u001b[0m\u001b[1;33m)\u001b[0m\u001b[1;33m\u001b[0m\u001b[1;33m\u001b[0m\u001b[0m\n\u001b[0m\u001b[0;32m     24\u001b[0m     \u001b[0mmyModel\u001b[0m\u001b[1;33m.\u001b[0m\u001b[0minputKeywordFile\u001b[0m \u001b[1;33m=\u001b[0m \u001b[1;34m\"MyJob.inp\"\u001b[0m\u001b[1;33m\u001b[0m\u001b[1;33m\u001b[0m\u001b[0m\n\u001b[0;32m     25\u001b[0m     \u001b[0mmyModel\u001b[0m\u001b[1;33m.\u001b[0m\u001b[0mwriteInput\u001b[0m\u001b[1;33m(\u001b[0m\u001b[1;33m)\u001b[0m\u001b[1;33m\u001b[0m\u001b[1;33m\u001b[0m\u001b[0m\n",
      "\u001b[1;31mAttributeError\u001b[0m: 'Model' object has no attribute 'Job'"
     ]
    }
   ],
   "source": [
    "import os\n",
    "\n",
    "main_dir = \"MyModel\"\n",
    "input_dir = os.path.join(main_dir, \"Input\")\n",
    "output_dir = os.path.join(main_dir, \"Output\")\n",
    "scripts_dir = os.path.join(main_dir, \"Scripts\")\n",
    "\n",
    "os.makedirs(input_dir, exist_ok=True)\n",
    "os.makedirs(output_dir, exist_ok=True)\n",
    "os.makedirs(scripts_dir, exist_ok=True)\n",
    "\n",
    "# Step 2: Create a Python script for model setup\n",
    "\n",
    "from abaqus import *\n",
    "from abaqusConstants import *\n",
    "def create_model():\n",
    "    myModel = mdb.Model(name=\"MyModel\")\n",
    "    myPart = myModel.Part(name=\"MyPart\", dimensionality=THREE_D, type=DEFORMABLE_BODY)\n",
    "    # Define materials, loads, and boundary conditions\n",
    "    # ...\n",
    "    myModel.rootAssembly.Instance(name=\"MyPart-1\", part=myPart)\n",
    "    myModel.Job(name=\"MyJob\", model=\"MyModel\")\n",
    "    myModel.inputKeywordFile = \"MyJob.inp\"\n",
    "    myModel.writeInput()\n",
    "    print(\"Model setup complete.\")\n",
    "\n",
    "create_model()"
   ]
  },
  {
   "cell_type": "code",
   "execution_count": 19,
   "id": "63d0624a",
   "metadata": {},
   "outputs": [
    {
     "name": "stdout",
     "output_type": "stream",
     "text": [
      "Defaulting to user installation because normal site-packages is not writeable\n",
      "Requirement already satisfied: pyabaqus in c:\\users\\zopev1\\appdata\\roaming\\python\\python39\\site-packages (2022)\n",
      "Requirement already satisfied: ipyparams in c:\\users\\zopev1\\appdata\\roaming\\python\\python39\\site-packages (from pyabaqus) (0.2.1)\n",
      "Note: you may need to restart the kernel to use updated packages.\n"
     ]
    }
   ],
   "source": [
    "pip install pyabaqus"
   ]
  },
  {
   "cell_type": "code",
   "execution_count": 12,
   "id": "35a28ea3",
   "metadata": {},
   "outputs": [],
   "source": [
    "def swift_law(c1,c2,c3,ε):\n",
    "    σ=c1*(c2+ε)**c3 #3 parameter \n",
    "    return(σ)"
   ]
  },
  {
   "cell_type": "code",
   "execution_count": 6,
   "id": "cd56416c",
   "metadata": {},
   "outputs": [],
   "source": [
    "start = 0\n",
    "end = 0.05\n",
    "step = 0.0002\n",
    "\n",
    "data_list = []\n",
    "current_value = start\n",
    "\n",
    "while current_value <= end:\n",
    "    data_list.append(current_value)\n",
    "    current_value += step\n",
    "    "
   ]
  },
  {
   "cell_type": "code",
   "execution_count": 9,
   "id": "9d35d0e2",
   "metadata": {},
   "outputs": [
    {
     "name": "stdout",
     "output_type": "stream",
     "text": [
      "[0, 0.0002, 0.0004, 0.0006000000000000001, 0.0008, 0.001, 0.0012000000000000001, 0.0014000000000000002, 0.0016000000000000003, 0.0018000000000000004, 0.0020000000000000005, 0.0022000000000000006, 0.0024000000000000007, 0.0026000000000000007, 0.002800000000000001, 0.003000000000000001, 0.003200000000000001, 0.003400000000000001, 0.003600000000000001, 0.0038000000000000013, 0.004000000000000001, 0.004200000000000001, 0.0044, 0.0046, 0.0048, 0.004999999999999999, 0.005199999999999999, 0.0053999999999999986, 0.005599999999999998, 0.005799999999999998, 0.0059999999999999975, 0.006199999999999997, 0.006399999999999997, 0.0065999999999999965, 0.006799999999999996, 0.006999999999999996, 0.0071999999999999955, 0.007399999999999995, 0.007599999999999995, 0.0077999999999999944, 0.007999999999999995, 0.008199999999999995, 0.008399999999999996, 0.008599999999999997, 0.008799999999999997, 0.008999999999999998, 0.009199999999999998, 0.009399999999999999, 0.0096, 0.0098, 0.01, 0.0102, 0.010400000000000001, 0.010600000000000002, 0.010800000000000002, 0.011000000000000003, 0.011200000000000003, 0.011400000000000004, 0.011600000000000004, 0.011800000000000005, 0.012000000000000005, 0.012200000000000006, 0.012400000000000007, 0.012600000000000007, 0.012800000000000008, 0.013000000000000008, 0.013200000000000009, 0.013400000000000009, 0.01360000000000001, 0.01380000000000001, 0.01400000000000001, 0.014200000000000011, 0.014400000000000012, 0.014600000000000012, 0.014800000000000013, 0.015000000000000013, 0.015200000000000014, 0.015400000000000014, 0.015600000000000015, 0.015800000000000015, 0.016000000000000014, 0.016200000000000013, 0.016400000000000012, 0.01660000000000001, 0.01680000000000001, 0.017000000000000008, 0.017200000000000007, 0.017400000000000006, 0.017600000000000005, 0.017800000000000003, 0.018000000000000002, 0.0182, 0.0184, 0.0186, 0.018799999999999997, 0.018999999999999996, 0.019199999999999995, 0.019399999999999994, 0.019599999999999992, 0.01979999999999999, 0.01999999999999999, 0.02019999999999999, 0.020399999999999988, 0.020599999999999986, 0.020799999999999985, 0.020999999999999984, 0.021199999999999983, 0.02139999999999998, 0.02159999999999998, 0.02179999999999998, 0.021999999999999978, 0.022199999999999977, 0.022399999999999975, 0.022599999999999974, 0.022799999999999973, 0.022999999999999972, 0.02319999999999997, 0.02339999999999997, 0.023599999999999968, 0.023799999999999967, 0.023999999999999966, 0.024199999999999965, 0.024399999999999963, 0.024599999999999962, 0.02479999999999996, 0.02499999999999996, 0.02519999999999996, 0.025399999999999957, 0.025599999999999956, 0.025799999999999955, 0.025999999999999954, 0.026199999999999952, 0.02639999999999995, 0.02659999999999995, 0.02679999999999995, 0.026999999999999948, 0.027199999999999946, 0.027399999999999945, 0.027599999999999944, 0.027799999999999943, 0.02799999999999994, 0.02819999999999994, 0.02839999999999994, 0.028599999999999938, 0.028799999999999937, 0.028999999999999936, 0.029199999999999934, 0.029399999999999933, 0.029599999999999932, 0.02979999999999993, 0.02999999999999993, 0.03019999999999993, 0.030399999999999927, 0.030599999999999926, 0.030799999999999925, 0.030999999999999923, 0.031199999999999922, 0.03139999999999992, 0.03159999999999992, 0.03179999999999992, 0.03199999999999992, 0.032199999999999916, 0.032399999999999915, 0.032599999999999914, 0.03279999999999991, 0.03299999999999991, 0.03319999999999991, 0.03339999999999991, 0.03359999999999991, 0.033799999999999907, 0.033999999999999905, 0.034199999999999904, 0.0343999999999999, 0.0345999999999999, 0.0347999999999999, 0.0349999999999999, 0.0351999999999999, 0.0353999999999999, 0.035599999999999896, 0.035799999999999894, 0.03599999999999989, 0.03619999999999989, 0.03639999999999989, 0.03659999999999989, 0.03679999999999989, 0.03699999999999989, 0.037199999999999886, 0.037399999999999885, 0.037599999999999884, 0.03779999999999988, 0.03799999999999988, 0.03819999999999988, 0.03839999999999988, 0.03859999999999988, 0.038799999999999876, 0.038999999999999875, 0.039199999999999874, 0.03939999999999987, 0.03959999999999987, 0.03979999999999987, 0.03999999999999987, 0.04019999999999987, 0.04039999999999987, 0.040599999999999865, 0.040799999999999864, 0.04099999999999986, 0.04119999999999986, 0.04139999999999986, 0.04159999999999986, 0.04179999999999986, 0.04199999999999986, 0.042199999999999856, 0.042399999999999854, 0.04259999999999985, 0.04279999999999985, 0.04299999999999985, 0.04319999999999985, 0.04339999999999985, 0.04359999999999985, 0.043799999999999846, 0.043999999999999845, 0.044199999999999844, 0.04439999999999984, 0.04459999999999984, 0.04479999999999984, 0.04499999999999984, 0.04519999999999984, 0.045399999999999836, 0.045599999999999835, 0.045799999999999834, 0.04599999999999983, 0.04619999999999983, 0.04639999999999983, 0.04659999999999983, 0.04679999999999983, 0.04699999999999983, 0.047199999999999825, 0.047399999999999824, 0.04759999999999982, 0.04779999999999982, 0.04799999999999982, 0.04819999999999982, 0.04839999999999982, 0.04859999999999982, 0.048799999999999816, 0.048999999999999815, 0.04919999999999981, 0.04939999999999981, 0.04959999999999981, 0.04979999999999981, 0.04999999999999981]\n"
     ]
    }
   ],
   "source": [
    "print(data_list)"
   ]
  },
  {
   "cell_type": "code",
   "execution_count": 15,
   "id": "d1de0de6",
   "metadata": {},
   "outputs": [],
   "source": [
    "list=[]"
   ]
  },
  {
   "cell_type": "code",
   "execution_count": 18,
   "id": "12a40766",
   "metadata": {},
   "outputs": [],
   "source": [
    "for i in data_list:\n",
    "    list.append((swift_law(1300,2.3e-14,0.075,i)))"
   ]
  },
  {
   "cell_type": "code",
   "execution_count": 19,
   "id": "7da11fd0",
   "metadata": {},
   "outputs": [],
   "source": [
    "import numpy as np\n",
    "import pandas as pd\n"
   ]
  },
  {
   "cell_type": "code",
   "execution_count": 24,
   "id": "1ee8eab3",
   "metadata": {},
   "outputs": [],
   "source": [
    "df=pd.DataFrame({\"strain\":data_list,\"stress\":list})"
   ]
  },
  {
   "cell_type": "code",
   "execution_count": 25,
   "id": "a9e3046e",
   "metadata": {},
   "outputs": [
    {
     "data": {
      "text/html": [
       "<div>\n",
       "<style scoped>\n",
       "    .dataframe tbody tr th:only-of-type {\n",
       "        vertical-align: middle;\n",
       "    }\n",
       "\n",
       "    .dataframe tbody tr th {\n",
       "        vertical-align: top;\n",
       "    }\n",
       "\n",
       "    .dataframe thead th {\n",
       "        text-align: right;\n",
       "    }\n",
       "</style>\n",
       "<table border=\"1\" class=\"dataframe\">\n",
       "  <thead>\n",
       "    <tr style=\"text-align: right;\">\n",
       "      <th></th>\n",
       "      <th>strain</th>\n",
       "      <th>stress</th>\n",
       "    </tr>\n",
       "  </thead>\n",
       "  <tbody>\n",
       "    <tr>\n",
       "      <th>0</th>\n",
       "      <td>0.0000</td>\n",
       "      <td>123.331195</td>\n",
       "    </tr>\n",
       "    <tr>\n",
       "      <th>1</th>\n",
       "      <td>0.0002</td>\n",
       "      <td>686.310435</td>\n",
       "    </tr>\n",
       "    <tr>\n",
       "      <th>2</th>\n",
       "      <td>0.0004</td>\n",
       "      <td>722.932670</td>\n",
       "    </tr>\n",
       "    <tr>\n",
       "      <th>3</th>\n",
       "      <td>0.0006</td>\n",
       "      <td>745.254653</td>\n",
       "    </tr>\n",
       "    <tr>\n",
       "      <th>4</th>\n",
       "      <td>0.0008</td>\n",
       "      <td>761.509107</td>\n",
       "    </tr>\n",
       "    <tr>\n",
       "      <th>...</th>\n",
       "      <td>...</td>\n",
       "      <td>...</td>\n",
       "    </tr>\n",
       "    <tr>\n",
       "      <th>246</th>\n",
       "      <td>0.0492</td>\n",
       "      <td>1037.148002</td>\n",
       "    </tr>\n",
       "    <tr>\n",
       "      <th>247</th>\n",
       "      <td>0.0494</td>\n",
       "      <td>1037.463613</td>\n",
       "    </tr>\n",
       "    <tr>\n",
       "      <th>248</th>\n",
       "      <td>0.0496</td>\n",
       "      <td>1037.778044</td>\n",
       "    </tr>\n",
       "    <tr>\n",
       "      <th>249</th>\n",
       "      <td>0.0498</td>\n",
       "      <td>1038.091304</td>\n",
       "    </tr>\n",
       "    <tr>\n",
       "      <th>250</th>\n",
       "      <td>0.0500</td>\n",
       "      <td>1038.403403</td>\n",
       "    </tr>\n",
       "  </tbody>\n",
       "</table>\n",
       "<p>251 rows × 2 columns</p>\n",
       "</div>"
      ],
      "text/plain": [
       "     strain       stress\n",
       "0    0.0000   123.331195\n",
       "1    0.0002   686.310435\n",
       "2    0.0004   722.932670\n",
       "3    0.0006   745.254653\n",
       "4    0.0008   761.509107\n",
       "..      ...          ...\n",
       "246  0.0492  1037.148002\n",
       "247  0.0494  1037.463613\n",
       "248  0.0496  1037.778044\n",
       "249  0.0498  1038.091304\n",
       "250  0.0500  1038.403403\n",
       "\n",
       "[251 rows x 2 columns]"
      ]
     },
     "execution_count": 25,
     "metadata": {},
     "output_type": "execute_result"
    }
   ],
   "source": [
    "df"
   ]
  },
  {
   "cell_type": "code",
   "execution_count": 26,
   "id": "8e14f278",
   "metadata": {},
   "outputs": [],
   "source": [
    "import matplotlib.pyplot as mp"
   ]
  },
  {
   "cell_type": "code",
   "execution_count": 27,
   "id": "bd55661e",
   "metadata": {},
   "outputs": [
    {
     "data": {
      "text/plain": [
       "[<matplotlib.lines.Line2D at 0x19960987070>]"
      ]
     },
     "execution_count": 27,
     "metadata": {},
     "output_type": "execute_result"
    },
    {
     "data": {
      "image/png": "[encoded data removed]",
      "text/plain": [
       "<Figure size 640x480 with 1 Axes>"
      ]
     },
     "metadata": {},
     "output_type": "display_data"
    }
   ],
   "source": [
    "mp.plot(df[\"strain\"],df[\"stress\"])"
   ]
  },
  {
   "cell_type": "code",
   "execution_count": 7,
   "id": "f7eca447",
   "metadata": {},
   "outputs": [
    {
     "ename": "KeyError",
     "evalue": "'Move'",
     "output_type": "error",
     "traceback": [
      "\u001b[1;31m---------------------------------------------------------------------------\u001b[0m",
      "\u001b[1;31mKeyError\u001b[0m                                  Traceback (most recent call last)",
      "\u001b[1;32m~\\AppData\\Local\\Temp\\ipykernel_20920\\77665856.py\u001b[0m in \u001b[0;36m<module>\u001b[1;34m\u001b[0m\n\u001b[0;32m     12\u001b[0m \u001b[1;33m\u001b[0m\u001b[0m\n\u001b[0;32m     13\u001b[0m \u001b[1;31m# Step 3: Get the field output object\u001b[0m\u001b[1;33m\u001b[0m\u001b[1;33m\u001b[0m\u001b[0m\n\u001b[1;32m---> 14\u001b[1;33m \u001b[0mstep\u001b[0m \u001b[1;33m=\u001b[0m \u001b[0modb\u001b[0m\u001b[1;33m.\u001b[0m\u001b[0msteps\u001b[0m\u001b[1;33m[\u001b[0m\u001b[0mstep_name\u001b[0m\u001b[1;33m]\u001b[0m\u001b[1;33m\u001b[0m\u001b[1;33m\u001b[0m\u001b[0m\n\u001b[0m\u001b[0;32m     15\u001b[0m \u001b[0mfield_output_object\u001b[0m \u001b[1;33m=\u001b[0m \u001b[0mstep\u001b[0m\u001b[1;33m.\u001b[0m\u001b[0mhistoryRegions\u001b[0m\u001b[1;33m[\u001b[0m\u001b[1;34m'All'\u001b[0m\u001b[1;33m]\u001b[0m\u001b[1;33m.\u001b[0m\u001b[0mhistoryOutputs\u001b[0m\u001b[1;33m[\u001b[0m\u001b[0mfield_output\u001b[0m\u001b[1;33m]\u001b[0m\u001b[1;33m\u001b[0m\u001b[1;33m\u001b[0m\u001b[0m\n\u001b[0;32m     16\u001b[0m \u001b[1;33m\u001b[0m\u001b[0m\n",
      "\u001b[1;31mKeyError\u001b[0m: 'Move'"
     ]
    }
   ],
   "source": [
    "from abaqus import *\n",
    "from abaqusConstants import *\n",
    "import odbAccess\n",
    "import visualization\n",
    "\n",
    "odb_path = 'C:\\SIMULIA\\temp\\ndbtest\\ndb50.odb'\n",
    "odb = session.openOdb(odb_path)\n",
    "\n",
    "field_output = 'U'\n",
    "step_name = 'Move'\n",
    "\n",
    "step = odb.steps[step_name]\n",
    "field_output_object = step.historyRegions['All'].historyOutputs[field_output]\n",
    "\n",
    "#Extract the data\n",
    "data = field_output_object.data\n",
    "time_values = data[:, 0]\n",
    "output_values = data[:, 1]\n",
    "\n",
    "\n",
    "for time, value in zip(time_values, output_values):\n",
    "    print(f\"Time: {time:.2f}, Output Value: {value:.4f}\")\n",
    "\n",
    "odb.close()\n"
   ]
  },
  {
   "cell_type": "code",
   "execution_count": 9,
   "id": "d4a63eb9",
   "metadata": {},
   "outputs": [
    {
     "name": "stdout",
     "output_type": "stream",
     "text": [
      "Available Steps:\n"
     ]
    }
   ],
   "source": [
    "odb_path = 'C:\\SIMULIA\\temp\\ndbtest\\ndb50.odb'\n",
    "odb = session.openOdb(odb_path)\n",
    "\n",
    "# Step 2: Print available step names\n",
    "print(\"Available Steps:\")\n",
    "for step_name in odb.steps.keys():\n",
    "    print(step_name+\"1\")\n",
    "\n",
    "odb.close()"
   ]
  },
  {
   "cell_type": "code",
   "execution_count": 15,
   "id": "ad49cdf1",
   "metadata": {},
   "outputs": [],
   "source": [
    "import os\n",
    "import subprocess\n",
    "import logging\n",
    "\n",
    "# Configure logging\n",
    "log_file_path = \"C:\\\\SIMULIA\\\\temp\\\\your_job_name.log\"\n",
    "logging.basicConfig(filename=log_file_path, level=logging.INFO, format='%(asctime)s - %(levelname)s: %(message)s')\n",
    "\n",
    "# Directory path where the Abaqus input file is located\n",
    "directory_path = \"C:\\\\SIMULIA\\\\temp\"\n",
    "\n",
    "try:\n",
    "    # Change the current working directory to the specified directory\n",
    "    os.chdir(directory_path)\n",
    "    logging.info(f\"Changed working directory to {directory_path}\")\n",
    "\n",
    "    name=\"newnewsabsenew.inp\"\n",
    "    job_name=newnewsabsenew\n",
    "    # Abaqus command to submit a job\n",
    "    abaqus_command = f\"abaqus job=job_name input=\"+name\n",
    "    # Open the Abaqus command using subprocess\n",
    "    logging.info(\"Starting Abaqus job...\")\n",
    "    subprocess.call(abaqus_command, shell=True)\n",
    "    logging.info(\"Abaqus job submitted successfully.\")\n",
    "\n",
    "except Exception as e:\n",
    "    logging.error(f\"Error occurred: {str(e)}\")\n",
    "\n",
    "# Log file closing\n",
    "logging.shutdown()\n"
   ]
  },
  {
   "cell_type": "code",
   "execution_count": null,
   "id": "2d0bda52",
   "metadata": {},
   "outputs": [],
   "source": []
  }
 ],
 "metadata": {
  "kernelspec": {
   "display_name": "Python 3 (ipykernel)",
   "language": "python",
   "name": "python3"
  },
  "language_info": {
   "codemirror_mode": {
    "name": "ipython",
    "version": 3
   },
   "file_extension": ".py",
   "mimetype": "text/x-python",
   "name": "python",
   "nbconvert_exporter": "python",
   "pygments_lexer": "ipython3",
   "version": "3.9.16"
  }
 },
 "nbformat": 4,
 "nbformat_minor": 5
}
