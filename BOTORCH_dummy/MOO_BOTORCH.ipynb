{
 "cells": [
  {
   "cell_type": "code",
   "execution_count": 17,
   "id": "d05f235f",
   "metadata": {},
   "outputs": [
    {
     "name": "stdout",
     "output_type": "stream",
     "text": [
      "Defaulting to user installation because normal site-packages is not writeable\n",
      "Requirement already satisfied: torch in c:\\users\\zopev1\\appdata\\roaming\\python\\python39\\site-packages (2.0.1)\n",
      "Requirement already satisfied: typing-extensions in c:\\programdata\\anaconda3\\lib\\site-packages (from torch) (4.3.0)\n",
      "Requirement already satisfied: filelock in c:\\programdata\\anaconda3\\lib\\site-packages (from torch) (3.6.0)\n",
      "Requirement already satisfied: sympy in c:\\programdata\\anaconda3\\lib\\site-packages (from torch) (1.10.1)\n",
      "Requirement already satisfied: networkx in c:\\programdata\\anaconda3\\lib\\site-packages (from torch) (2.8.4)\n",
      "Requirement already satisfied: jinja2 in c:\\programdata\\anaconda3\\lib\\site-packages (from torch) (2.11.3)\n",
      "Requirement already satisfied: MarkupSafe>=0.23 in c:\\programdata\\anaconda3\\lib\\site-packages (from jinja2->torch) (2.0.1)\n",
      "Requirement already satisfied: mpmath>=0.19 in c:\\programdata\\anaconda3\\lib\\site-packages (from sympy->torch) (1.2.1)\n",
      "Defaulting to user installation because normal site-packages is not writeable\n",
      "Requirement already satisfied: botorch in c:\\users\\zopev1\\appdata\\roaming\\python\\python39\\site-packages (0.8.5)\n",
      "Requirement already satisfied: torch>=1.12 in c:\\users\\zopev1\\appdata\\roaming\\python\\python39\\site-packages (from botorch) (2.0.1)\n",
      "Requirement already satisfied: linear-operator==0.4.0 in c:\\users\\zopev1\\appdata\\roaming\\python\\python39\\site-packages (from botorch) (0.4.0)\n",
      "Requirement already satisfied: multipledispatch in c:\\programdata\\anaconda3\\lib\\site-packages (from botorch) (0.6.0)\n",
      "Requirement already satisfied: gpytorch==1.10 in c:\\users\\zopev1\\appdata\\roaming\\python\\python39\\site-packages (from botorch) (1.10)\n",
      "Requirement already satisfied: pyro-ppl>=1.8.4 in c:\\users\\zopev1\\appdata\\roaming\\python\\python39\\site-packages (from botorch) (1.8.5)\n",
      "Requirement already satisfied: scipy in c:\\programdata\\anaconda3\\lib\\site-packages (from botorch) (1.9.1)\n",
      "Requirement already satisfied: scikit-learn in c:\\programdata\\anaconda3\\lib\\site-packages (from gpytorch==1.10->botorch) (1.0.2)\n",
      "Requirement already satisfied: tqdm>=4.36 in c:\\programdata\\anaconda3\\lib\\site-packages (from pyro-ppl>=1.8.4->botorch) (4.64.1)\n",
      "Requirement already satisfied: numpy>=1.7 in c:\\programdata\\anaconda3\\lib\\site-packages (from pyro-ppl>=1.8.4->botorch) (1.21.5)\n",
      "Requirement already satisfied: opt-einsum>=2.3.2 in c:\\users\\zopev1\\appdata\\roaming\\python\\python39\\site-packages (from pyro-ppl>=1.8.4->botorch) (3.3.0)\n",
      "Requirement already satisfied: pyro-api>=0.1.1 in c:\\users\\zopev1\\appdata\\roaming\\python\\python39\\site-packages (from pyro-ppl>=1.8.4->botorch) (0.1.2)\n",
      "Requirement already satisfied: filelock in c:\\programdata\\anaconda3\\lib\\site-packages (from torch>=1.12->botorch) (3.6.0)\n",
      "Requirement already satisfied: typing-extensions in c:\\programdata\\anaconda3\\lib\\site-packages (from torch>=1.12->botorch) (4.3.0)\n",
      "Requirement already satisfied: jinja2 in c:\\programdata\\anaconda3\\lib\\site-packages (from torch>=1.12->botorch) (2.11.3)\n",
      "Requirement already satisfied: networkx in c:\\programdata\\anaconda3\\lib\\site-packages (from torch>=1.12->botorch) (2.8.4)\n",
      "Requirement already satisfied: sympy in c:\\programdata\\anaconda3\\lib\\site-packages (from torch>=1.12->botorch) (1.10.1)\n",
      "Requirement already satisfied: six in c:\\programdata\\anaconda3\\lib\\site-packages (from multipledispatch->botorch) (1.16.0)\n",
      "Requirement already satisfied: colorama in c:\\programdata\\anaconda3\\lib\\site-packages (from tqdm>=4.36->pyro-ppl>=1.8.4->botorch) (0.4.5)\n",
      "Requirement already satisfied: MarkupSafe>=0.23 in c:\\programdata\\anaconda3\\lib\\site-packages (from jinja2->torch>=1.12->botorch) (2.0.1)\n",
      "Requirement already satisfied: joblib>=0.11 in c:\\programdata\\anaconda3\\lib\\site-packages (from scikit-learn->gpytorch==1.10->botorch) (1.1.0)\n",
      "Requirement already satisfied: threadpoolctl>=2.0.0 in c:\\programdata\\anaconda3\\lib\\site-packages (from scikit-learn->gpytorch==1.10->botorch) (2.2.0)\n",
      "Requirement already satisfied: mpmath>=0.19 in c:\\programdata\\anaconda3\\lib\\site-packages (from sympy->torch>=1.12->botorch) (1.2.1)\n"
     ]
    }
   ],
   "source": [
    "!pip install torch\n",
    "!pip install botorch"
   ]
  },
  {
   "cell_type": "code",
   "execution_count": 18,
   "id": "77b4477c",
   "metadata": {},
   "outputs": [
    {
     "name": "stdout",
     "output_type": "stream",
     "text": [
      "Defaulting to user installation because normal site-packages is not writeable\n",
      "Requirement already satisfied: botorch in c:\\users\\zopev1\\appdata\\roaming\\python\\python39\\site-packages (0.8.5)\n",
      "Requirement already satisfied: gpytorch==1.10 in c:\\users\\zopev1\\appdata\\roaming\\python\\python39\\site-packages (from botorch) (1.10)\n",
      "Requirement already satisfied: scipy in c:\\programdata\\anaconda3\\lib\\site-packages (from botorch) (1.9.1)\n",
      "Requirement already satisfied: pyro-ppl>=1.8.4 in c:\\users\\zopev1\\appdata\\roaming\\python\\python39\\site-packages (from botorch) (1.8.5)\n",
      "Requirement already satisfied: multipledispatch in c:\\programdata\\anaconda3\\lib\\site-packages (from botorch) (0.6.0)\n",
      "Requirement already satisfied: linear-operator==0.4.0 in c:\\users\\zopev1\\appdata\\roaming\\python\\python39\\site-packages (from botorch) (0.4.0)\n",
      "Requirement already satisfied: torch>=1.12 in c:\\users\\zopev1\\appdata\\roaming\\python\\python39\\site-packages (from botorch) (2.0.1)\n",
      "Requirement already satisfied: scikit-learn in c:\\programdata\\anaconda3\\lib\\site-packages (from gpytorch==1.10->botorch) (1.0.2)\n",
      "Requirement already satisfied: opt-einsum>=2.3.2 in c:\\users\\zopev1\\appdata\\roaming\\python\\python39\\site-packages (from pyro-ppl>=1.8.4->botorch) (3.3.0)\n",
      "Requirement already satisfied: tqdm>=4.36 in c:\\programdata\\anaconda3\\lib\\site-packages (from pyro-ppl>=1.8.4->botorch) (4.64.1)\n",
      "Requirement already satisfied: numpy>=1.7 in c:\\programdata\\anaconda3\\lib\\site-packages (from pyro-ppl>=1.8.4->botorch) (1.21.5)\n",
      "Requirement already satisfied: pyro-api>=0.1.1 in c:\\users\\zopev1\\appdata\\roaming\\python\\python39\\site-packages (from pyro-ppl>=1.8.4->botorch) (0.1.2)\n",
      "Requirement already satisfied: networkx in c:\\programdata\\anaconda3\\lib\\site-packages (from torch>=1.12->botorch) (2.8.4)\n",
      "Requirement already satisfied: sympy in c:\\programdata\\anaconda3\\lib\\site-packages (from torch>=1.12->botorch) (1.10.1)\n",
      "Requirement already satisfied: jinja2 in c:\\programdata\\anaconda3\\lib\\site-packages (from torch>=1.12->botorch) (2.11.3)\n",
      "Requirement already satisfied: typing-extensions in c:\\programdata\\anaconda3\\lib\\site-packages (from torch>=1.12->botorch) (4.3.0)\n",
      "Requirement already satisfied: filelock in c:\\programdata\\anaconda3\\lib\\site-packages (from torch>=1.12->botorch) (3.6.0)\n",
      "Requirement already satisfied: six in c:\\programdata\\anaconda3\\lib\\site-packages (from multipledispatch->botorch) (1.16.0)\n",
      "Requirement already satisfied: colorama in c:\\programdata\\anaconda3\\lib\\site-packages (from tqdm>=4.36->pyro-ppl>=1.8.4->botorch) (0.4.5)\n",
      "Requirement already satisfied: MarkupSafe>=0.23 in c:\\programdata\\anaconda3\\lib\\site-packages (from jinja2->torch>=1.12->botorch) (2.0.1)\n",
      "Requirement already satisfied: threadpoolctl>=2.0.0 in c:\\programdata\\anaconda3\\lib\\site-packages (from scikit-learn->gpytorch==1.10->botorch) (2.2.0)\n",
      "Requirement already satisfied: joblib>=0.11 in c:\\programdata\\anaconda3\\lib\\site-packages (from scikit-learn->gpytorch==1.10->botorch) (1.1.0)\n",
      "Requirement already satisfied: mpmath>=0.19 in c:\\programdata\\anaconda3\\lib\\site-packages (from sympy->torch>=1.12->botorch) (1.2.1)\n",
      "Note: you may need to restart the kernel to use updated packages.\n"
     ]
    }
   ],
   "source": [
    "pip install --upgrade botorch"
   ]
  },
  {
   "cell_type": "code",
   "execution_count": 28,
   "id": "ad7338ab",
   "metadata": {},
   "outputs": [],
   "source": [
    "#defining everything for dummy testing\n",
    "\n",
    "param_bounds = {\n",
    "    'c1': {'lowerBound': 0, 'upperBound': 1, 'exponent': 1.0, 'name': 'W', 'unit': 'dimensionless', 'type': 'hardening'}, \n",
    "    'c2': {'lowerBound': 0, 'upperBound': 2, 'exponent': 1000.0, 'name': 'K', 'unit': 'MPa', 'type': 'yielding'}, \n",
    "    'c3': {'lowerBound': 0, 'upperBound': 1, 'exponent': 0.1, 'name': 'e0', 'unit': 'dimensionless', 'type': 'hardening'}, \n",
    "    'c4': {'lowerBound': 0, 'upperBound': 1, 'exponent': 1.0, 'name': 'n', 'unit': 'dimensionless', 'type': 'hardening'}, \n",
    "    'c5': {'lowerBound': 0, 'upperBound': 2, 'exponent': 1000.0, 'name': 'sigma_y', 'unit': 'MPa', 'type': 'yielding'}, \n",
    "    'c6': {'lowerBound': 0, 'upperBound': 1, 'exponent': 1000.0, 'name': 'sigma_sat', 'unit': 'MPa', 'type': 'hardening'}, \n",
    "    'c7': {'lowerBound': 0, 'upperBound': 1, 'exponent': 1000.0, 'name': 'b', 'unit': 'dimensionless', 'type': 'hardening'}\n",
    "}\n",
    "\n",
    "\n",
    "geometries = ['NDBR50', 'NDBR6', 'CHD6']\n",
    "\n",
    "def calculate_loss(simulated_curve, target_curve):\n",
    "    # This is a placeholder. Replace this with your actual loss function.\n",
    "    return np.sum((simulated_curve - target_curve)**2)\n",
    "\n",
    "\n",
    "def generate_dummy_target_curves():\n",
    "    geometries = ['NDBR50', 'NDBR6', 'CHD6']\n",
    "    targetCurves = {geometry: {'force': np.random.rand(100), 'displacement': np.linspace(0, 2, 100)} for geometry in geometries}\n",
    "    return targetCurves\n",
    "\n",
    "def generate_dummy_combined_data():\n",
    "    geometries = ['NDBR50', 'NDBR6', 'CHD6']\n",
    "    params = ['c1', 'c2', 'c3', 'c4', 'c5', 'c6', 'c7']\n",
    "    combined_data = {\n",
    "        tuple((param, np.random.rand()) for param in params): \n",
    "        {geometry: {'force': np.random.rand(100), 'displacement': np.linspace(0, 2, 100)} for geometry in geometries}\n",
    "        for _ in range(100)\n",
    "    }\n",
    "    return combined_data"
   ]
  },
  {
   "cell_type": "code",
   "execution_count": 33,
   "id": "f2b32f35",
   "metadata": {},
   "outputs": [
    {
     "name": "stderr",
     "output_type": "stream",
     "text": [
      "C:\\Users\\zopev1\\AppData\\Roaming\\Python\\Python39\\site-packages\\botorch\\models\\gpytorch.py:129: UserWarning: The model inputs are of type torch.float32. It is strongly recommended to use double precision in BoTorch, as this improves both precision and stability and can help avoid numerical errors. See https://github.com/pytorch/botorch/discussions/1444\n",
      "  warnings.warn(_get_single_precision_warning(X.dtype), UserWarning)\n",
      "C:\\Users\\zopev1\\AppData\\Roaming\\Python\\Python39\\site-packages\\botorch\\models\\utils\\assorted.py:201: InputDataWarning: Input data is not standardized. Please consider scaling the input to zero mean and unit variance.\n",
      "  warnings.warn(msg, InputDataWarning)\n"
     ]
    },
    {
     "name": "stdout",
     "output_type": "stream",
     "text": [
      "[{'c1': 0.8792486190795898, 'c2': 1.992463231086731, 'c3': 0.6484872102737427, 'c4': 0.7131639122962952, 'c5': 1.8831543922424316, 'c6': 0.496869832277298, 'c7': 0.9574712514877319}, {'c1': 0.2613418400287628, 'c2': 1.50616455078125, 'c3': 0.8306484222412109, 'c4': 0.08781611174345016, 'c5': 1.9354491233825684, 'c6': 0.6911563277244568, 'c7': 0.7134778499603271}, {'c1': 0.5536680817604065, 'c2': 0.1731215864419937, 'c3': 0.20179393887519836, 'c4': 0.4600904881954193, 'c5': 1.0931661128997803, 'c6': 0.188849538564682, 'c7': 0.4555857479572296}, {'c1': 0.9301822781562805, 'c2': 0.08139479160308838, 'c3': 0.9568307995796204, 'c4': 0.29582470655441284, 'c5': 1.9144587516784668, 'c6': 0.7132220268249512, 'c7': 0.6579915881156921}, {'c1': 0.030092626810073853, 'c2': 0.1482355296611786, 'c3': 0.8750647902488708, 'c4': 0.7462082505226135, 'c5': 0.9299249053001404, 'c6': 0.18878304958343506, 'c7': 0.6040541529655457}, {'c1': 0.9769315123558044, 'c2': 1.2655372619628906, 'c3': 0.6432329416275024, 'c4': 0.43469148874282837, 'c5': 1.5090376138687134, 'c6': 0.4548812806606293, 'c7': 0.7997861504554749}, {'c1': 0.9146772623062134, 'c2': 0.5330539345741272, 'c3': 0.39506012201309204, 'c4': 0.4273395538330078, 'c5': 1.4579949378967285, 'c6': 0.10955235362052917, 'c7': 0.8697322010993958}, {'c1': 0.9548202157020569, 'c2': 1.3087000846862793, 'c3': 0.11756215244531631, 'c4': 0.9325257539749146, 'c5': 0.6689623594284058, 'c6': 0.7460741400718689, 'c7': 0.5622427463531494}, {'c1': 0.3849092125892639, 'c2': 1.3141525983810425, 'c3': 0.8325212597846985, 'c4': 0.8887401223182678, 'c5': 0.24204999208450317, 'c6': 0.48317745327949524, 'c7': 0.3223450779914856}, {'c1': 0.8513665199279785, 'c2': 1.3239641189575195, 'c3': 0.4824526607990265, 'c4': 0.7575463056564331, 'c5': 0.4753957986831665, 'c6': 0.9443238973617554, 'c7': 0.9554210901260376}]\n"
     ]
    },
    {
     "name": "stderr",
     "output_type": "stream",
     "text": [
      "C:\\Users\\zopev1\\AppData\\Roaming\\Python\\Python39\\site-packages\\botorch\\optim\\initializers.py:403: BadInitialCandidatesWarning: Unable to find non-zero acquisition function values - initial conditions are being selected randomly.\n",
      "  warnings.warn(\n"
     ]
    }
   ],
   "source": [
    "import torch\n",
    "import numpy as np\n",
    "from botorch.models import SingleTaskGP\n",
    "from gpytorch.mlls import ExactMarginalLogLikelihood\n",
    "from botorch.fit import fit_gpytorch_model\n",
    "from botorch.acquisition.multi_objective import qExpectedHypervolumeImprovement\n",
    "from botorch.optim import optimize_acqf\n",
    "from botorch.utils.multi_objective.box_decompositions import NondominatedPartitioning\n",
    "\n",
    "# Define your custom loss function\n",
    "\n",
    "\n",
    "# Generate dummy data\n",
    "combined_interpolated_param_to_geom_FD_Curves_smooth = generate_dummy_combined_data()\n",
    "targetCurves = generate_dummy_target_curves()\n",
    "\n",
    "# Convert your data to the required format\n",
    "param_data = []\n",
    "objective_data = []\n",
    "for param_tuple, geom_dict in combined_interpolated_param_to_geom_FD_Curves_smooth.items():\n",
    "    param_data.append([value for param, value in param_tuple])\n",
    "    objective_data.append([calculate_loss(geom_dict[geometry][\"force\"], targetCurves[geometry][\"force\"]) for geometry in geometries])\n",
    "your_param_data = torch.tensor(param_data).float()\n",
    "your_objective_data = torch.tensor(objective_data).float()\n",
    "\n",
    "# Normalize the parameters\n",
    "normalized_param_data = (your_param_data - your_param_data.min(dim=0).values) / (your_param_data.max(dim=0).values - your_param_data.min(dim=0).values)\n",
    "\n",
    "# Train a GP model\n",
    "gp = SingleTaskGP(normalized_param_data, your_objective_data)\n",
    "mll = ExactMarginalLogLikelihood(gp.likelihood, gp)\n",
    "fit_gpytorch_model(mll)\n",
    "\n",
    "# Define the bounds of the search space\n",
    "lower_bounds = torch.tensor([param_bounds[param]['lowerBound'] for param in param_bounds.keys()]).float()\n",
    "upper_bounds = torch.tensor([param_bounds[param]['upperBound'] for param in param_bounds.keys()]).float()\n",
    "bounds = torch.stack([lower_bounds, upper_bounds])\n",
    "\n",
    "# Define the reference point as slightly worse than the worst observed values\n",
    "ref_point = your_objective_data.max(dim=0).values + 0.1\n",
    "\n",
    "# Define the partitioning of the output space\n",
    "partitioning = botorch.utils.multi_objective.box_decompositions.non_dominated.NondominatedPartitioning(ref_point=ref_point, Y=your_objective_data)\n",
    "\n",
    "# Define the acquisition function\n",
    "acq_func = qExpectedHypervolumeImprovement(model=gp, partitioning=partitioning, ref_point=torch.zeros(your_objective_data.size(-1)).tolist())\n",
    "\n",
    "# Optimize the acquisition function to find the next set of parameters to evaluate\n",
    "candidates, _ = optimize_acqf(\n",
    "    acq_function=acq_func,\n",
    "    bounds=bounds,\n",
    "    q=10,  # change this to the number of candidates you want to generate\n",
    "    num_restarts=5,\n",
    "    raw_samples=20,\n",
    ")\n",
    "\n",
    "# Denormalize the candidates\n",
    "next_params = candidates * (your_param_data.max(dim=0).values - your_param_data.min(dim=0).values) + your_param_data.min(dim=0).values\n",
    "\n",
    "# Convert the tensor to a list of dictionaries\n",
    "next_param_dicts = [{param: value.item() for param, value in zip(param_bounds.keys(), next_param)} for next_param in next_params]\n",
    "\n",
    "# Select the non-dominated solutions\n",
    "pareto_mask = is_non_dominated(torch.stack([gp.posterior(next_param.unsqueeze(0)).mean for next_param in next_params]))\n",
    "pareto_solutions = [next_param_dicts[i] for i in range(len(next_param_dicts)) if pareto_mask[i]]\n",
    "\n",
    "print(pareto_solutions)\n"
   ]
  }
 ],
 "metadata": {
  "kernelspec": {
   "display_name": "Python 3 (ipykernel)",
   "language": "python",
   "name": "python3"
  },
  "language_info": {
   "codemirror_mode": {
    "name": "ipython",
    "version": 3
   },
   "file_extension": ".py",
   "mimetype": "text/x-python",
   "name": "python",
   "nbconvert_exporter": "python",
   "pygments_lexer": "ipython3",
   "version": "3.9.13"
  }
 },
 "nbformat": 4,
 "nbformat_minor": 5
}
